{
  "nbformat": 4,
  "nbformat_minor": 0,
  "metadata": {
    "colab": {
      "name": "LS_DS_24_Cross-Validation-AND-Feature-Selection.ipynb",
      "version": "0.3.2",
      "provenance": [],
      "collapsed_sections": []
    },
    "kernelspec": {
      "name": "python3",
      "display_name": "Python 3"
    }
  },
  "cells": [
    {
      "metadata": {
        "id": "3ctjQBseh0Cw",
        "colab_type": "text"
      },
      "cell_type": "markdown",
      "source": [
        "_Lambda School Data Science - Model Validation_\n",
        "\n",
        "## Example solution to the Cross-Validation assignment — plus Feature Selection!\n",
        "\n",
        "See also Sebastian Raschka's example, [Basic Pipeline and Grid Search Setup](https://github.com/rasbt/python-machine-learning-book/blob/master/code/bonus/svm_iris_pipeline_and_gridsearch.ipynb)."
      ]
    },
    {
      "metadata": {
        "id": "K6ZRZsa-q9cs",
        "colab_type": "code",
        "colab": {}
      },
      "cell_type": "code",
      "source": [
        "#!pip install tsfresh\n",
        "#!pip install seaborn --upgrade"
      ],
      "execution_count": 0,
      "outputs": []
    },
    {
      "metadata": {
        "id": "TpdhfLv-A2HA",
        "colab_type": "text"
      },
      "cell_type": "markdown",
      "source": [
        "### Here in we pull in all our feature creation functions (from Jake Vanderplas and a few from our cohort)"
      ]
    },
    {
      "metadata": {
        "id": "aHUVU_AMBKs0",
        "colab_type": "code",
        "colab": {}
      },
      "cell_type": "code",
      "source": [
        "# We'll modify a project from Python Data Science Handbook by Jake VanderPlas\n",
        "# https://jakevdp.github.io/PythonDataScienceHandbook/05.06-linear-regression.html#Example:-Predicting-Bicycle-Traffic\n",
        "    \n",
        "# Predicting Bicycle Traffic\n",
        "\n",
        "# As an example, let's take a look at whether we can predict the number of \n",
        "# bicycle trips across Seattle's Fremont Bridge based on weather, season, \n",
        "# and other factors.\n",
        "\n",
        "# We will join the bike data with another dataset, and try to determine the \n",
        "# extent to which weather and seasonal factors—temperature, precipitation, \n",
        "# and daylight hours—affect the volume of bicycle traffic through this corridor. \n",
        "# Fortunately, the NOAA makes available their daily weather station data \n",
        "# (I used station ID USW00024233) and we can easily use Pandas to join \n",
        "# the two data sources.\n",
        "\n",
        "\n",
        "import numpy as np\n",
        "import pandas as pd\n",
        "from sklearn.feature_selection import f_regression, SelectKBest\n",
        "from sklearn.linear_model import Ridge\n",
        "from sklearn.metrics import mean_absolute_error\n",
        "from sklearn.model_selection import GridSearchCV\n",
        "from sklearn.pipeline import make_pipeline\n",
        "from sklearn.preprocessing import RobustScaler\n",
        "from sklearn.dummy import DummyRegressor\n",
        "from datetime import datetime\n",
        "from datetime import date\n",
        "\n",
        "\n",
        "def load(): \n",
        "    fremont_bridge = 'https://data.seattle.gov/api/views/65db-xm6k/rows.csv?accessType=DOWNLOAD'\n",
        "    \n",
        "    bicycle_weather = 'https://raw.githubusercontent.com/jakevdp/PythonDataScienceHandbook/master/notebooks/data/BicycleWeather.csv'\n",
        "\n",
        "    counts = pd.read_csv(fremont_bridge, index_col='Date', parse_dates=True, \n",
        "                         infer_datetime_format=True)\n",
        "\n",
        "    weather = pd.read_csv(bicycle_weather, index_col='DATE', parse_dates=True, \n",
        "                          infer_datetime_format=True)\n",
        "\n",
        "    daily = counts.resample('d').sum()\n",
        "    daily['Total'] = daily.sum(axis=1)\n",
        "    daily = daily[['Total']] # remove other columns\n",
        "\n",
        "    weather_columns = ['PRCP', 'SNOW', 'SNWD', 'TMAX', 'TMIN', 'AWND']\n",
        "    daily = daily.join(weather[weather_columns], how='inner')\n",
        "    \n",
        "    # Make a feature for yesterday's total\n",
        "    daily['Total_yesterday'] = daily.Total.shift(1)\n",
        "    daily = daily.drop(index=daily.index[0])\n",
        "  \n",
        "  \n",
        "    daily.insert(0, 'ID', range(0, len(daily)))\n",
        "    daily.insert(0, 'order', range(0, len(daily)))\n",
        "\n",
        "    return daily\n",
        "\n",
        "  \n",
        "def ordinal(daily):\n",
        "    daily = daily.copy()\n",
        "    # Add a column of the dates\n",
        "    daily['date_'] = daily.index\n",
        "    \n",
        "    # Date stuff https://docs.python.org/3/library/datetime.html#datetime.date.fromisoformat\n",
        "    # Add some day context\n",
        "    daily.insert(0, 'weekday_', daily.date_.apply(lambda x: x.weekday()))\n",
        "    daily.insert(0, 'dayOfMonth_',  daily.date_.apply(lambda x: x.day))\n",
        "    daily.insert(0, 'month_',  daily.date_.apply(lambda x: x.month))\n",
        "    daily.insert(0, 'year_',  daily.date_.apply(lambda x: x.year))  \n",
        "    \n",
        "    # Drop date column\n",
        "    daily = daily.drop(columns='date_')\n",
        "    \n",
        "    return daily\n",
        "  \n",
        "    \n",
        "def split(daily):\n",
        "    # Hold out an \"out-of-time\" test set, from the last 100 days of data\n",
        "    \n",
        "    train = daily[:-100]\n",
        "    test = daily[-100:]\n",
        "    \n",
        "    X_train = train.drop(columns='Total')\n",
        "    y_train = train.Total\n",
        "\n",
        "    X_test  = test.drop(columns='Total')\n",
        "    y_test  = test.Total\n",
        "    \n",
        "    return X_train, X_test, y_train, y_test\n",
        "\n",
        "  \n",
        "  \n",
        "def one_hot_encoded(X):\n",
        "    X = X.copy()\n",
        "\n",
        "    # patterns of use generally vary from day to day; \n",
        "    # let's add binary columns that indicate the day of the week:\n",
        "    days = ['Mon', 'Tue', 'Wed', 'Thu', 'Fri', 'Sat', 'Sun']\n",
        "    for i, day in enumerate(days):\n",
        "        X[day] = (X.index.dayofweek == i).astype(float)\n",
        "\n",
        "\n",
        "    # we might expect riders to behave differently on holidays; \n",
        "    # let's add an indicator of this as well:\n",
        "    from pandas.tseries.holiday import USFederalHolidayCalendar\n",
        "    cal = USFederalHolidayCalendar()\n",
        "    holidays = cal.holidays('2012', '2016')\n",
        "    X = X.join(pd.Series(1, index=holidays, name='holiday'))\n",
        "    X['holiday'].fillna(0, inplace=True)\n",
        "    \n",
        "    months = ['Jan', 'Feb', 'Mar', 'Apr', 'May', 'Jun', 'Jul', 'Aug', 'Sep', 'Oct', 'Nov', 'Dec']\n",
        "    for i, month in enumerate(months):\n",
        "        X[month] = (X.index.month == i+1).astype(float)\n",
        "    \n",
        "    return X\n",
        "\n",
        "  \n",
        "\n",
        "def jake_wrangle(X):  \n",
        "    X = X.copy()\n",
        "\n",
        "    # We also might suspect that the hours of daylight would affect \n",
        "    # how many people ride; let's use the standard astronomical calculation \n",
        "    # to add this information:\n",
        "    def hours_of_daylight(date, axis=23.44, latitude=47.61):\n",
        "        \"\"\"Compute the hours of daylight for the given date\"\"\"\n",
        "        days = (date - pd.datetime(2000, 12, 21)).days\n",
        "        m = (1. - np.tan(np.radians(latitude))\n",
        "             * np.tan(np.radians(axis) * np.cos(days * 2 * np.pi / 365.25)))\n",
        "        return 24. * np.degrees(np.arccos(1 - np.clip(m, 0, 2))) / 180.\n",
        "\n",
        "    X['daylight_hrs'] = list(map(hours_of_daylight, X.index))\n",
        "\n",
        "\n",
        "    # temperatures are in 1/10 deg C; convert to C\n",
        "    X['TMIN'] /= 10\n",
        "    X['TMAX'] /= 10\n",
        "\n",
        "    # We can also calcuate the average temperature.\n",
        "    X['Temp (C)'] = 0.5 * (X['TMIN'] + X['TMAX'])\n",
        "\n",
        "\n",
        "    # precip is in 1/10 mm; convert to inches\n",
        "    X['PRCP'] /= 254\n",
        "\n",
        "    # In addition to the inches of precipitation, let's add a flag that \n",
        "    # indicates whether a day is dry (has zero precipitation):\n",
        "    X['dry day'] = (X['PRCP'] == 0).astype(int)\n",
        "\n",
        "\n",
        "    # Let's add a counter that increases from day 1, and measures how many \n",
        "    # years have passed. This will let us measure any observed annual increase \n",
        "    # or decrease in daily crossings:\n",
        "    X['annual'] = (X.index - X.index[0]).days / 365.\n",
        "\n",
        "    return X\n",
        "\n",
        "  \n",
        "\n",
        "def wrangle(X):\n",
        "    # From Daniel H (DS1 KotH)\n",
        "    X = X.copy()\n",
        "    X = X.replace(-9999, 0)\n",
        "    X = jake_wrangle(X)\n",
        "    \n",
        "    X['PRCP_yest'] = X.PRCP.shift(1).fillna(X.PRCP.mean())\n",
        "    X['Windchill'] = (((X['Temp (C)'] * (9/5) + 32) * .6215) + 34.74) - (35.75 * (X['AWND']** .16)) + (.4275 * (X['Temp (C)'])) * (X['AWND'] ** .16)\n",
        "    X['Rl_Cold'] = (((X['Temp (C)'] * (9/5) + 32) - X['Windchill']) -32) * (5/9)\n",
        "    X['TMIN_ln'] = X['TMIN'] **2\n",
        "    \n",
        "    return X\n",
        "\n",
        " "
      ],
      "execution_count": 0,
      "outputs": []
    },
    {
      "metadata": {
        "id": "vQN2O9PCAkBn",
        "colab_type": "code",
        "colab": {}
      },
      "cell_type": "code",
      "source": [
        "# Download and join data into a dataframe\n",
        "data = load()"
      ],
      "execution_count": 0,
      "outputs": []
    },
    {
      "metadata": {
        "id": "S_YElAe92dSA",
        "colab_type": "code",
        "colab": {
          "base_uri": "https://localhost:8080/",
          "height": 201
        },
        "outputId": "066cacba-c30d-4938-88b6-8fb973865ff2"
      },
      "cell_type": "code",
      "source": [
        "data.head()"
      ],
      "execution_count": 4,
      "outputs": [
        {
          "output_type": "execute_result",
          "data": {
            "text/html": [
              "<div>\n",
              "<style scoped>\n",
              "    .dataframe tbody tr th:only-of-type {\n",
              "        vertical-align: middle;\n",
              "    }\n",
              "\n",
              "    .dataframe tbody tr th {\n",
              "        vertical-align: top;\n",
              "    }\n",
              "\n",
              "    .dataframe thead th {\n",
              "        text-align: right;\n",
              "    }\n",
              "</style>\n",
              "<table border=\"1\" class=\"dataframe\">\n",
              "  <thead>\n",
              "    <tr style=\"text-align: right;\">\n",
              "      <th></th>\n",
              "      <th>order</th>\n",
              "      <th>ID</th>\n",
              "      <th>Total</th>\n",
              "      <th>PRCP</th>\n",
              "      <th>SNOW</th>\n",
              "      <th>SNWD</th>\n",
              "      <th>TMAX</th>\n",
              "      <th>TMIN</th>\n",
              "      <th>AWND</th>\n",
              "      <th>Total_yesterday</th>\n",
              "    </tr>\n",
              "  </thead>\n",
              "  <tbody>\n",
              "    <tr>\n",
              "      <th>2012-10-04</th>\n",
              "      <td>0</td>\n",
              "      <td>0</td>\n",
              "      <td>3475.0</td>\n",
              "      <td>0</td>\n",
              "      <td>0</td>\n",
              "      <td>0</td>\n",
              "      <td>189</td>\n",
              "      <td>83</td>\n",
              "      <td>65</td>\n",
              "      <td>3521.0</td>\n",
              "    </tr>\n",
              "    <tr>\n",
              "      <th>2012-10-05</th>\n",
              "      <td>1</td>\n",
              "      <td>1</td>\n",
              "      <td>3148.0</td>\n",
              "      <td>0</td>\n",
              "      <td>0</td>\n",
              "      <td>0</td>\n",
              "      <td>217</td>\n",
              "      <td>89</td>\n",
              "      <td>57</td>\n",
              "      <td>3475.0</td>\n",
              "    </tr>\n",
              "    <tr>\n",
              "      <th>2012-10-06</th>\n",
              "      <td>2</td>\n",
              "      <td>2</td>\n",
              "      <td>2006.0</td>\n",
              "      <td>0</td>\n",
              "      <td>0</td>\n",
              "      <td>0</td>\n",
              "      <td>239</td>\n",
              "      <td>78</td>\n",
              "      <td>51</td>\n",
              "      <td>3148.0</td>\n",
              "    </tr>\n",
              "    <tr>\n",
              "      <th>2012-10-07</th>\n",
              "      <td>3</td>\n",
              "      <td>3</td>\n",
              "      <td>2142.0</td>\n",
              "      <td>0</td>\n",
              "      <td>0</td>\n",
              "      <td>0</td>\n",
              "      <td>239</td>\n",
              "      <td>78</td>\n",
              "      <td>13</td>\n",
              "      <td>2006.0</td>\n",
              "    </tr>\n",
              "    <tr>\n",
              "      <th>2012-10-08</th>\n",
              "      <td>4</td>\n",
              "      <td>4</td>\n",
              "      <td>3537.0</td>\n",
              "      <td>0</td>\n",
              "      <td>0</td>\n",
              "      <td>0</td>\n",
              "      <td>211</td>\n",
              "      <td>78</td>\n",
              "      <td>19</td>\n",
              "      <td>2142.0</td>\n",
              "    </tr>\n",
              "  </tbody>\n",
              "</table>\n",
              "</div>"
            ],
            "text/plain": [
              "            order  ID   Total  PRCP  SNOW  SNWD  TMAX  TMIN  AWND  \\\n",
              "2012-10-04      0   0  3475.0     0     0     0   189    83    65   \n",
              "2012-10-05      1   1  3148.0     0     0     0   217    89    57   \n",
              "2012-10-06      2   2  2006.0     0     0     0   239    78    51   \n",
              "2012-10-07      3   3  2142.0     0     0     0   239    78    13   \n",
              "2012-10-08      4   4  3537.0     0     0     0   211    78    19   \n",
              "\n",
              "            Total_yesterday  \n",
              "2012-10-04           3521.0  \n",
              "2012-10-05           3475.0  \n",
              "2012-10-06           3148.0  \n",
              "2012-10-07           2006.0  \n",
              "2012-10-08           2142.0  "
            ]
          },
          "metadata": {
            "tags": []
          },
          "execution_count": 4
        }
      ]
    },
    {
      "metadata": {
        "id": "bC-3OGTDE2ku",
        "colab_type": "code",
        "colab": {
          "base_uri": "https://localhost:8080/",
          "height": 298
        },
        "outputId": "f44810b0-3715-417a-8fee-3bb2e913f058"
      },
      "cell_type": "code",
      "source": [
        "import seaborn as sns\n",
        "sns.lineplot(data.ID, data.Total)"
      ],
      "execution_count": 5,
      "outputs": [
        {
          "output_type": "execute_result",
          "data": {
            "text/plain": [
              "<matplotlib.axes._subplots.AxesSubplot at 0x7f276f0f65c0>"
            ]
          },
          "metadata": {
            "tags": []
          },
          "execution_count": 5
        },
        {
          "output_type": "display_data",
          "data": {
            "image/png": "[encoded data removed]",
            "text/plain": [
              "<Figure size 432x288 with 1 Axes>"
            ]
          },
          "metadata": {
            "tags": []
          }
        }
      ]
    },
    {
      "metadata": {
        "id": "o6nrCnpa9uXN",
        "colab_type": "text"
      },
      "cell_type": "markdown",
      "source": [
        "### This is an example of a pipeline + parameter grid. "
      ]
    },
    {
      "metadata": {
        "id": "WvakVkHHBIAG",
        "colab_type": "text"
      },
      "cell_type": "markdown",
      "source": [
        "Remember: If your dataset is massive, be sure to take a random subset sample to try fitting with the training data to start getting scores. "
      ]
    },
    {
      "metadata": {
        "id": "g8GngZEJZ1Zd",
        "colab_type": "text"
      },
      "cell_type": "markdown",
      "source": [
        "### Benchmark / Baseline using Dummy Regressor in Pipe"
      ]
    },
    {
      "metadata": {
        "id": "PTsw1_cOY3Jb",
        "colab_type": "code",
        "colab": {
          "base_uri": "https://localhost:8080/",
          "height": 82
        },
        "outputId": "1657f5c4-3413-4135-f944-c679ae7fd6de"
      },
      "cell_type": "code",
      "source": [
        "%%time\n",
        "# Split data into train and test\n",
        "X_train, X_test, y_train, y_test = split(data)\n",
        "\n",
        "# Define an estimator and param_grid\n",
        "# WHEN DEFINING YOU CAN GIVE IT A NAME OTHERWISE IT WILL USE THE PIPELINE NAME AUTOGEN NAME (name of the function but lowercase)\n",
        "pipe = make_pipeline(\n",
        "    RobustScaler(), \n",
        "    DummyRegressor(strategy='mean'))\n",
        "\n",
        "pipe.fit(X_train, y_train)\n",
        "\n",
        "### Get the scores with the MAE Function\n",
        "## Predict with X_test features and Compare predictions to y_test labels\n",
        "y_pred = pipe.predict(X_train)\n",
        "dummy_train_score = mean_absolute_error(y_train, y_pred)\n",
        "print('Dummy Regression Train Score:', dummy_train_score)\n",
        "\n",
        "\n",
        "## Predict with X_test features and Compare predictions to y_test labels\n",
        "y_pred = pipe.predict(X_test)\n",
        "dummy_test_score = mean_absolute_error(y_test, y_pred)\n",
        "print('Dummy Regression Test Score:', dummy_test_score)\n"
      ],
      "execution_count": 6,
      "outputs": [
        {
          "output_type": "stream",
          "text": [
            "Dummy Regression Train Score: 980.8981106765484\n",
            "Dummy Regression Test Score: 1341.2051609553478\n",
            "CPU times: user 20.1 ms, sys: 16 ms, total: 36.1 ms\n",
            "Wall time: 24.1 ms\n"
          ],
          "name": "stdout"
        }
      ]
    },
    {
      "metadata": {
        "id": "NJrNph8IFyOM",
        "colab_type": "code",
        "colab": {
          "base_uri": "https://localhost:8080/",
          "height": 283
        },
        "outputId": "d2e99815-87f9-47db-8918-60cf74bfcdbb"
      },
      "cell_type": "code",
      "source": [
        "%%time\n",
        "\n",
        "# Define an estimator and param_grid\n",
        "# WHEN DEFINING YOU CAN GIVE IT A NAME OTHERWISE IT WILL USE THE PIPELINE NAME AUTOGEN NAME (name of the function but lowercase)\n",
        "pipe = make_pipeline(\n",
        "    RobustScaler(), \n",
        "    SelectKBest(f_regression), \n",
        "    Ridge())\n",
        "\n",
        "param_grid = {\n",
        "    'selectkbest__k': range(1, len(X_train.columns)+1), \n",
        "    'ridge__alpha': [0.1, 1.0, 10.]\n",
        "}\n",
        "\n",
        "# Fit on the train set, with grid search cross-validation\n",
        "gs = GridSearchCV(pipe, param_grid=param_grid, cv=3, \n",
        "                  scoring='neg_mean_absolute_error', \n",
        "                  verbose=1)\n",
        "\n",
        "gs.fit(X_train, y_train)\n",
        "validation_score = gs.best_score_\n",
        "print()\n",
        "print('Cross-Validation Score:', -validation_score)\n",
        "print()\n",
        "print('Best estimator:', gs.best_estimator_)\n",
        "print()\n",
        "\n",
        "\n",
        "### Get the score with the GridSearch's score method\n",
        "# It combines the predict and score calculation.\n",
        "RidgeBaseline_train_score = gs.score(X_train, y_train)\n",
        "print('RidgeBaseline Train Score:', -RidgeBaseline_train_score)\n",
        "\n",
        "RidgeBaseline_test_score = gs.score(X_test, y_test)\n",
        "print('RidgeBaseline Test Score:', -RidgeBaseline_test_score)"
      ],
      "execution_count": 7,
      "outputs": [
        {
          "output_type": "stream",
          "text": [
            "Fitting 3 folds for each of 27 candidates, totalling 81 fits\n"
          ],
          "name": "stdout"
        },
        {
          "output_type": "stream",
          "text": [
            "[Parallel(n_jobs=1)]: Using backend SequentialBackend with 1 concurrent workers.\n"
          ],
          "name": "stderr"
        },
        {
          "output_type": "stream",
          "text": [
            "\n",
            "Cross-Validation Score: 604.6453429336518\n",
            "\n",
            "Best estimator: Pipeline(memory=None,\n",
            "     steps=[('robustscaler', RobustScaler(copy=True, quantile_range=(25.0, 75.0), with_centering=True,\n",
            "       with_scaling=True)), ('selectkbest', SelectKBest(k=4, score_func=<function f_regression at 0x7f276dde7d90>)), ('ridge', Ridge(alpha=1.0, copy_X=True, fit_intercept=True, max_iter=None,\n",
            "   normalize=False, random_state=None, solver='auto', tol=0.001))])\n",
            "\n",
            "RidgeBaseline Train Score: 601.7510401226398\n",
            "RidgeBaseline Test Score: 773.107268536548\n",
            "CPU times: user 921 ms, sys: 10.2 ms, total: 931 ms\n",
            "Wall time: 928 ms\n"
          ],
          "name": "stdout"
        },
        {
          "output_type": "stream",
          "text": [
            "[Parallel(n_jobs=1)]: Done  81 out of  81 | elapsed:    0.9s finished\n"
          ],
          "name": "stderr"
        }
      ]
    },
    {
      "metadata": {
        "id": "RvIXSeL8as_q",
        "colab_type": "text"
      },
      "cell_type": "markdown",
      "source": [
        "###  Apply data `ordinal`"
      ]
    },
    {
      "metadata": {
        "id": "GEbQyUwpbSz6",
        "colab_type": "code",
        "colab": {
          "base_uri": "https://localhost:8080/",
          "height": 283
        },
        "outputId": "754c0778-595f-478f-ae3f-4824812f0b65"
      },
      "cell_type": "code",
      "source": [
        "%%time\n",
        "ordinal_data = ordinal(data)\n",
        "\n",
        "# Split data into train and test\n",
        "X_train, X_test, y_train, y_test = split(ordinal_data)\n",
        "\n",
        "# Define an estimator and param_grid\n",
        "# WHEN DEFINING YOU CAN GIVE IT A NAME OTHERWISE IT WILL USE THE PIPELINE NAME AUTOGEN NAME (name of the function but lowercase)\n",
        "pipe = make_pipeline(\n",
        "    RobustScaler(), \n",
        "    SelectKBest(f_regression), \n",
        "    Ridge())\n",
        "\n",
        "param_grid = {\n",
        "    'selectkbest__k': range(1, len(X_train.columns)+1), \n",
        "    'ridge__alpha': [0.1, 1.0, 10.]\n",
        "}\n",
        "\n",
        "# Fit on the train set, with grid search cross-validation\n",
        "gs = GridSearchCV(pipe, param_grid=param_grid, cv=3, \n",
        "                  scoring='neg_mean_absolute_error', \n",
        "                  verbose=1)\n",
        "\n",
        "gs.fit(X_train, y_train)\n",
        "validation_score = gs.best_score_\n",
        "print()\n",
        "print('Cross-Validation Score:', -validation_score)\n",
        "print()\n",
        "print('Best estimator:', gs.best_estimator_)\n",
        "print()\n",
        "\n",
        "\n",
        "### Get the score with the GridSearch's score method\n",
        "# It combines the predict and score calculation.\n",
        "ord_train_score = gs.score(X_train, y_train)\n",
        "print('Ordinal Train Score:', -ord_train_score)\n",
        "\n",
        "ord_test_score = gs.score(X_test, y_test)\n",
        "print('Ordinal Test Score:', -ord_test_score)"
      ],
      "execution_count": 8,
      "outputs": [
        {
          "output_type": "stream",
          "text": [
            "[Parallel(n_jobs=1)]: Using backend SequentialBackend with 1 concurrent workers.\n"
          ],
          "name": "stderr"
        },
        {
          "output_type": "stream",
          "text": [
            "Fitting 3 folds for each of 39 candidates, totalling 117 fits\n",
            "\n",
            "Cross-Validation Score: 389.2116166662251\n",
            "\n",
            "Best estimator: Pipeline(memory=None,\n",
            "     steps=[('robustscaler', RobustScaler(copy=True, quantile_range=(25.0, 75.0), with_centering=True,\n",
            "       with_scaling=True)), ('selectkbest', SelectKBest(k=5, score_func=<function f_regression at 0x7f276dde7d90>)), ('ridge', Ridge(alpha=1.0, copy_X=True, fit_intercept=True, max_iter=None,\n",
            "   normalize=False, random_state=None, solver='auto', tol=0.001))])\n",
            "\n",
            "Ordinal Train Score: 385.55035508465824\n",
            "Ordinal Test Score: 448.71439473552834\n",
            "CPU times: user 1.49 s, sys: 16 ms, total: 1.51 s\n",
            "Wall time: 1.5 s\n"
          ],
          "name": "stdout"
        },
        {
          "output_type": "stream",
          "text": [
            "[Parallel(n_jobs=1)]: Done 117 out of 117 | elapsed:    1.5s finished\n"
          ],
          "name": "stderr"
        }
      ]
    },
    {
      "metadata": {
        "id": "eL9c8h5Fc7df",
        "colab_type": "text"
      },
      "cell_type": "markdown",
      "source": [
        "### Apply `one_hot_encoded` (classmates function)"
      ]
    },
    {
      "metadata": {
        "id": "K4BHDQRHarBb",
        "colab_type": "code",
        "colab": {
          "base_uri": "https://localhost:8080/",
          "height": 250
        },
        "outputId": "6d7a49fc-b372-4de9-8030-c727fee5abb3"
      },
      "cell_type": "code",
      "source": [
        "#%%time\n",
        "one_hot_data = one_hot_encoded(data)\n",
        "\n",
        "# Split data into train and test\n",
        "X_train, X_test, y_train, y_test = split(one_hot_data)\n",
        "\n",
        "# Define an estimator and param_grid\n",
        "# WHEN DEFINING YOU CAN GIVE IT A NAME OTHERWISE IT WILL USE THE PIPELINE NAME AUTOGEN NAME (name of the function but lowercase)\n",
        "pipe = make_pipeline(\n",
        "    RobustScaler(), \n",
        "    SelectKBest(f_regression), \n",
        "    Ridge())\n",
        "\n",
        "param_grid = {\n",
        "    'selectkbest__k': range(1, len(X_train.columns)+1), \n",
        "    'ridge__alpha': [0.1, 1.0, 10.]\n",
        "}\n",
        "\n",
        "# Fit on the train set, with grid search cross-validation\n",
        "gs = GridSearchCV(pipe, param_grid=param_grid, cv=3, \n",
        "                  scoring='neg_mean_absolute_error', \n",
        "                  verbose=1)\n",
        "\n",
        "gs.fit(X_train, y_train)\n",
        "validation_score = gs.best_score_\n",
        "print()\n",
        "print('Cross-Validation Score:', -validation_score)\n",
        "print()\n",
        "print('Best estimator:', gs.best_estimator_)\n",
        "print()\n",
        "\n",
        "\n",
        "### Get the score with the GridSearch's score method\n",
        "# It combines the predict and score calculation.\n",
        "oh_train_score = gs.score(X_train, y_train)\n",
        "print('Train Score:', -oh_train_score)\n",
        "\n",
        "oh_test_score = gs.score(X_test, y_test)\n",
        "print('Test Score:', -oh_test_score)"
      ],
      "execution_count": 9,
      "outputs": [
        {
          "output_type": "stream",
          "text": [
            "[Parallel(n_jobs=1)]: Using backend SequentialBackend with 1 concurrent workers.\n"
          ],
          "name": "stderr"
        },
        {
          "output_type": "stream",
          "text": [
            "Fitting 3 folds for each of 87 candidates, totalling 261 fits\n",
            "\n",
            "Cross-Validation Score: 317.0293417197573\n",
            "\n",
            "Best estimator: Pipeline(memory=None,\n",
            "     steps=[('robustscaler', RobustScaler(copy=True, quantile_range=(25.0, 75.0), with_centering=True,\n",
            "       with_scaling=True)), ('selectkbest', SelectKBest(k=24, score_func=<function f_regression at 0x7f276dde7d90>)), ('ridge', Ridge(alpha=1.0, copy_X=True, fit_intercept=True, max_iter=None,\n",
            "   normalize=False, random_state=None, solver='auto', tol=0.001))])\n",
            "\n",
            "Train Score: 291.1151670177737\n",
            "Test Score: 625.2713329002021\n"
          ],
          "name": "stdout"
        },
        {
          "output_type": "stream",
          "text": [
            "[Parallel(n_jobs=1)]: Done 261 out of 261 | elapsed:    5.2s finished\n"
          ],
          "name": "stderr"
        }
      ]
    },
    {
      "metadata": {
        "id": "1h5aYb_2ljSJ",
        "colab_type": "code",
        "colab": {
          "base_uri": "https://localhost:8080/",
          "height": 115
        },
        "outputId": "da88683d-e5d7-4f00-d118-5b91671e92e7"
      },
      "cell_type": "code",
      "source": [
        "print('Ordinal Train Score:', -ord_train_score)\n",
        "print('Ordinal Test Score:', -ord_test_score)\n",
        "print('\\n')\n",
        "print('One-Hot Train Score:', -oh_train_score)\n",
        "print('One-Hot Test Score:', -oh_test_score)"
      ],
      "execution_count": 10,
      "outputs": [
        {
          "output_type": "stream",
          "text": [
            "Ordinal Train Score: 385.55035508465824\n",
            "Ordinal Test Score: 448.71439473552834\n",
            "\n",
            "\n",
            "One-Hot Train Score: 291.1151670177737\n",
            "One-Hot Test Score: 625.2713329002021\n"
          ],
          "name": "stdout"
        }
      ]
    },
    {
      "metadata": {
        "id": "3g5j5mDZmjXz",
        "colab_type": "text"
      },
      "cell_type": "markdown",
      "source": [
        "###  Just feature Wrangling"
      ]
    },
    {
      "metadata": {
        "id": "fjrsha5JDcr3",
        "colab_type": "code",
        "colab": {
          "base_uri": "https://localhost:8080/",
          "height": 283
        },
        "outputId": "10b123b2-561b-4c85-b7a9-3a33b5dfd0e0"
      },
      "cell_type": "code",
      "source": [
        "%%time\n",
        "# Split data into train and test\n",
        "X_train, X_test, y_train, y_test = split(data)\n",
        "\n",
        "# Do the same wrangling to X_train and X_test\n",
        "X_train = wrangle(X_train)\n",
        "X_test = wrangle(X_test)\n",
        "\n",
        "# Define an estimator and param_grid\n",
        "# WHEN DEFINING YOU CAN GIVE IT A NAME OTHERWISE IT WILL USE THE PIPELINE NAME AUTOGEN NAME (name of the function but lowercase)\n",
        "pipe = make_pipeline(\n",
        "    RobustScaler(), \n",
        "    SelectKBest(f_regression), \n",
        "    Ridge())\n",
        "\n",
        "param_grid = {\n",
        "    'selectkbest__k': range(1, len(X_train.columns)+1), \n",
        "    'ridge__alpha': [0.1, 1.0, 10.]\n",
        "}\n",
        "\n",
        "# Fit on the train set, with grid search cross-validation\n",
        "gs = GridSearchCV(pipe, param_grid=param_grid, cv=3, \n",
        "                  scoring='neg_mean_absolute_error', \n",
        "                  verbose=1)\n",
        "\n",
        "gs.fit(X_train, y_train)\n",
        "validation_score = gs.best_score_\n",
        "print()\n",
        "print('Cross-Validation Score:', -validation_score)\n",
        "print()\n",
        "print('Best estimator:', gs.best_estimator_)\n",
        "print()\n",
        "\n",
        "\n",
        "### Get the score with the GridSearch's score method\n",
        "# It combines the predict and score calculation.\n",
        "RRtrain_score = gs.score(X_train, y_train)\n",
        "print('Just Wrangling Train Score:', -RRtrain_score)\n",
        "\n",
        "RRtest_score = gs.score(X_test, y_test)\n",
        "print('Just Wrangling Test Score:', -RRtest_score)"
      ],
      "execution_count": 11,
      "outputs": [
        {
          "output_type": "stream",
          "text": [
            "[Parallel(n_jobs=1)]: Using backend SequentialBackend with 1 concurrent workers.\n"
          ],
          "name": "stderr"
        },
        {
          "output_type": "stream",
          "text": [
            "Fitting 3 folds for each of 51 candidates, totalling 153 fits\n",
            "\n",
            "Cross-Validation Score: 595.6499492839174\n",
            "\n",
            "Best estimator: Pipeline(memory=None,\n",
            "     steps=[('robustscaler', RobustScaler(copy=True, quantile_range=(25.0, 75.0), with_centering=True,\n",
            "       with_scaling=True)), ('selectkbest', SelectKBest(k=16, score_func=<function f_regression at 0x7f276dde7d90>)), ('ridge', Ridge(alpha=0.1, copy_X=True, fit_intercept=True, max_iter=None,\n",
            "   normalize=False, random_state=None, solver='auto', tol=0.001))])\n",
            "\n",
            "Just Wrangling Train Score: 590.9809720746895\n",
            "Just Wrangling Test Score: 768.3761136981898\n",
            "CPU times: user 3.24 s, sys: 1.93 s, total: 5.17 s\n",
            "Wall time: 2.63 s\n"
          ],
          "name": "stdout"
        },
        {
          "output_type": "stream",
          "text": [
            "[Parallel(n_jobs=1)]: Done 153 out of 153 | elapsed:    2.5s finished\n"
          ],
          "name": "stderr"
        }
      ]
    },
    {
      "metadata": {
        "id": "gWiacK_Lm5dS",
        "colab_type": "text"
      },
      "cell_type": "markdown",
      "source": [
        "### Comparing 3 seperate runs. "
      ]
    },
    {
      "metadata": {
        "id": "paAAnN6Zm420",
        "colab_type": "code",
        "colab": {
          "base_uri": "https://localhost:8080/",
          "height": 312
        },
        "outputId": "a4f7123c-229a-41d9-f2f4-e59d372e8f1a"
      },
      "cell_type": "code",
      "source": [
        "# Comparing 1 set of variables for each\n",
        "\n",
        "print('Dummy Regression Train Score:', dummy_train_score)\n",
        "print('Dummy Regression Test Score:', dummy_test_score)\n",
        "print('\\n')\n",
        "print('RidgeBaseline Train Score:', -RidgeBaseline_train_score)\n",
        "print('RidgeBaseline Test Score:', -RidgeBaseline_test_score)\n",
        "print('\\n')\n",
        "print('Just Ordinal Train Score:', -ord_train_score)\n",
        "print('Just Ordinal Test Score:', -ord_test_score)\n",
        "print('\\n')\n",
        "print('Just One-Hot Train Score:', -oh_train_score)\n",
        "print('Just One-Hot Test Score:', -oh_test_score)\n",
        "print('\\n')\n",
        "print('Just Wrangling Train Score:', -RRtrain_score)\n",
        "print('Just Wrangling Test Score:', -RRtest_score)"
      ],
      "execution_count": 12,
      "outputs": [
        {
          "output_type": "stream",
          "text": [
            "Dummy Regression Train Score: 980.8981106765484\n",
            "Dummy Regression Test Score: 1341.2051609553478\n",
            "\n",
            "\n",
            "RidgeBaseline Train Score: 601.7510401226398\n",
            "RidgeBaseline Test Score: 773.107268536548\n",
            "\n",
            "\n",
            "Just Ordinal Train Score: 385.55035508465824\n",
            "Just Ordinal Test Score: 448.71439473552834\n",
            "\n",
            "\n",
            "Just One-Hot Train Score: 291.1151670177737\n",
            "Just One-Hot Test Score: 625.2713329002021\n",
            "\n",
            "\n",
            "Just Wrangling Train Score: 590.9809720746895\n",
            "Just Wrangling Test Score: 768.3761136981898\n"
          ],
          "name": "stdout"
        }
      ]
    },
    {
      "metadata": {
        "id": "qrc_DQv0nb8g",
        "colab_type": "text"
      },
      "cell_type": "markdown",
      "source": [
        "### Combine all 3 feature engineering sets. "
      ]
    },
    {
      "metadata": {
        "id": "zOe_jR8noXhJ",
        "colab_type": "code",
        "colab": {
          "base_uri": "https://localhost:8080/",
          "height": 283
        },
        "outputId": "dd775a5a-5e32-401e-e7be-ac74e1dfe166"
      },
      "cell_type": "code",
      "source": [
        "%%time\n",
        "ordinal_data = ordinal(data)\n",
        "ord_oh_data = one_hot_encoded(ordinal_data)\n",
        "wrangled_oh_ord_data = wrangle(ord_oh_data)\n",
        "\n",
        "# Split data into train and test\n",
        "X_train, X_test, y_train, y_test = split(wrangled_oh_ord_data)\n",
        "\n",
        "# Define an estimator and param_grid\n",
        "# WHEN DEFINING YOU CAN GIVE IT A NAME OTHERWISE IT WILL USE THE PIPELINE NAME AUTOGEN NAME (name of the function but lowercase)\n",
        "pipe = make_pipeline(\n",
        "    RobustScaler(), \n",
        "    SelectKBest(f_regression), \n",
        "    Ridge())\n",
        "\n",
        "param_grid = {\n",
        "    'selectkbest__k': range(1, len(X_train.columns)+1), \n",
        "    'ridge__alpha': [0.1, 1.0, 10.]\n",
        "}\n",
        "\n",
        "# Fit on the train set, with grid search cross-validation\n",
        "gs = GridSearchCV(pipe, param_grid=param_grid, cv=3, \n",
        "                  scoring='neg_mean_absolute_error', \n",
        "                  verbose=1)\n",
        "\n",
        "gs.fit(X_train, y_train)\n",
        "validation_score = gs.best_score_\n",
        "print()\n",
        "print('Cross-Validation Score:', -validation_score)\n",
        "print()\n",
        "print('Best estimator:', gs.best_estimator_)\n",
        "print()\n",
        "\n",
        "\n",
        "### Get the score with the GridSearch's score method\n",
        "# It combines the predict and score calculation.\n",
        "fe_train_score = gs.score(X_train, y_train)\n",
        "print('Feature Engineered Train Score:', -fe_train_score)\n",
        "\n",
        "fe_test_score = gs.score(X_test, y_test)\n",
        "print('Feature Engineered Test Score:', -fe_test_score)"
      ],
      "execution_count": 13,
      "outputs": [
        {
          "output_type": "stream",
          "text": [
            "Fitting 3 folds for each of 123 candidates, totalling 369 fits\n"
          ],
          "name": "stdout"
        },
        {
          "output_type": "stream",
          "text": [
            "[Parallel(n_jobs=1)]: Using backend SequentialBackend with 1 concurrent workers.\n"
          ],
          "name": "stderr"
        },
        {
          "output_type": "stream",
          "text": [
            "\n",
            "Cross-Validation Score: 297.2903366179876\n",
            "\n",
            "Best estimator: Pipeline(memory=None,\n",
            "     steps=[('robustscaler', RobustScaler(copy=True, quantile_range=(25.0, 75.0), with_centering=True,\n",
            "       with_scaling=True)), ('selectkbest', SelectKBest(k=33, score_func=<function f_regression at 0x7f276dde7d90>)), ('ridge', Ridge(alpha=1.0, copy_X=True, fit_intercept=True, max_iter=None,\n",
            "   normalize=False, random_state=None, solver='auto', tol=0.001))])\n",
            "\n",
            "Feature Engineered Train Score: 272.8314219289632\n",
            "Feature Engineered Test Score: 333.87956324859124\n",
            "CPU times: user 10.9 s, sys: 7.61 s, total: 18.5 s\n",
            "Wall time: 9.36 s\n"
          ],
          "name": "stdout"
        },
        {
          "output_type": "stream",
          "text": [
            "[Parallel(n_jobs=1)]: Done 369 out of 369 | elapsed:    9.2s finished\n"
          ],
          "name": "stderr"
        }
      ]
    },
    {
      "metadata": {
        "id": "Bk_ngegNpAde",
        "colab_type": "code",
        "colab": {
          "base_uri": "https://localhost:8080/",
          "height": 49
        },
        "outputId": "6dff464c-8006-4059-b692-fe9c77032a15"
      },
      "cell_type": "code",
      "source": [
        "\n",
        "fe_train_score = gs.score(X_train, y_train)\n",
        "print('Feature Engineered Train Score:', -fe_train_score)\n",
        "\n",
        "fe_test_score = gs.score(X_test, y_test)\n",
        "print('Feature Engineered Test Score:', -fe_test_score)"
      ],
      "execution_count": 14,
      "outputs": [
        {
          "output_type": "stream",
          "text": [
            "Feature Engineered Train Score: 272.8314219289632\n",
            "Feature Engineered Test Score: 333.87956324859124\n"
          ],
          "name": "stdout"
        }
      ]
    },
    {
      "metadata": {
        "id": "7Lik9uYdpmnH",
        "colab_type": "code",
        "colab": {
          "base_uri": "https://localhost:8080/",
          "height": 283
        },
        "outputId": "9446d7a2-3ab9-4b26-d7dd-229ef3bf012b"
      },
      "cell_type": "code",
      "source": [
        "%%time\n",
        "ordinal_data = ordinal(data)\n",
        "ord_oh_data = one_hot_encoded(ordinal_data)\n",
        "wrangled_oh_ord_data = wrangle(ord_oh_data)\n",
        "\n",
        "# Split data into train and test\n",
        "X_train, X_test, y_train, y_test = split(wrangled_oh_ord_data)\n",
        "\n",
        "# Define an estimator and param_grid\n",
        "# WHEN DEFINING YOU CAN GIVE IT A NAME OTHERWISE IT WILL USE THE PIPELINE NAME AUTOGEN NAME (name of the function but lowercase)\n",
        "pipe = make_pipeline(\n",
        "    RobustScaler(), \n",
        "    SelectKBest(f_regression), \n",
        "    Ridge())\n",
        "\n",
        "param_grid = {\n",
        "    'selectkbest__k': range(1, len(X_train.columns)+1), \n",
        "    'ridge__alpha': [0.1, 1.0, 10.]\n",
        "}\n",
        "\n",
        "# Fit on the train set, with grid search cross-validation\n",
        "gs = GridSearchCV(pipe, param_grid=param_grid, cv=3, \n",
        "                  scoring='neg_mean_absolute_error', \n",
        "                  verbose=1)\n",
        "\n",
        "gs.fit(X_train, y_train)\n",
        "validation_score = gs.best_score_\n",
        "print()\n",
        "print('Cross-Validation Score:', -validation_score)\n",
        "print()\n",
        "print('Best estimator:', gs.best_estimator_)\n",
        "print()\n",
        "\n",
        "\n",
        "### Get the score with the GridSearch's score method\n",
        "# It combines the predict and score calculation.\n",
        "fe_train_score = gs.score(X_train, y_train)\n",
        "print('Feature Engineered Train Score:', -fe_train_score)\n",
        "\n",
        "fe_test_score = gs.score(X_test, y_test)\n",
        "print('Feature Engineered Test Score:', -fe_test_score)"
      ],
      "execution_count": 15,
      "outputs": [
        {
          "output_type": "stream",
          "text": [
            "Fitting 3 folds for each of 123 candidates, totalling 369 fits\n"
          ],
          "name": "stdout"
        },
        {
          "output_type": "stream",
          "text": [
            "[Parallel(n_jobs=1)]: Using backend SequentialBackend with 1 concurrent workers.\n"
          ],
          "name": "stderr"
        },
        {
          "output_type": "stream",
          "text": [
            "\n",
            "Cross-Validation Score: 297.2903366179876\n",
            "\n",
            "Best estimator: Pipeline(memory=None,\n",
            "     steps=[('robustscaler', RobustScaler(copy=True, quantile_range=(25.0, 75.0), with_centering=True,\n",
            "       with_scaling=True)), ('selectkbest', SelectKBest(k=33, score_func=<function f_regression at 0x7f276dde7d90>)), ('ridge', Ridge(alpha=1.0, copy_X=True, fit_intercept=True, max_iter=None,\n",
            "   normalize=False, random_state=None, solver='auto', tol=0.001))])\n",
            "\n",
            "Feature Engineered Train Score: 272.8314219289632\n",
            "Feature Engineered Test Score: 333.87956324859124\n",
            "CPU times: user 10.8 s, sys: 7.65 s, total: 18.5 s\n",
            "Wall time: 9.34 s\n"
          ],
          "name": "stdout"
        },
        {
          "output_type": "stream",
          "text": [
            "[Parallel(n_jobs=1)]: Done 369 out of 369 | elapsed:    9.1s finished\n"
          ],
          "name": "stderr"
        }
      ]
    },
    {
      "metadata": {
        "id": "W6pWKwFwNJ7Q",
        "colab_type": "text"
      },
      "cell_type": "markdown",
      "source": [
        "### Notes on Pipeline / GridScore"
      ]
    },
    {
      "metadata": {
        "id": "ZYJAHcNH_m2a",
        "colab_type": "text"
      },
      "cell_type": "markdown",
      "source": [
        "#### Then we can get the final test score (using MAE function)"
      ]
    },
    {
      "metadata": {
        "id": "ye1ZIriwALnD",
        "colab_type": "text"
      },
      "cell_type": "markdown",
      "source": [
        "Using gs.predict calls all the grid score fit/transforms and applies them to our X_test data in this case. \n",
        "\n",
        "Then we can calculate our score useing those test predictions. "
      ]
    },
    {
      "metadata": {
        "id": "AR4bo95ZJFwj",
        "colab_type": "code",
        "colab": {
          "base_uri": "https://localhost:8080/",
          "height": 32
        },
        "outputId": "eb970dd4-7d91-4bf9-fd75-9ab6d8f362f6"
      },
      "cell_type": "code",
      "source": [
        "# Predict with X_test features\n",
        "y_pred = gs.predict(X_test)\n",
        "\n",
        "# Compare predictions to y_test labels\n",
        "test_score = mean_absolute_error(y_test, y_pred)\n",
        "print('Test Score:', test_score)"
      ],
      "execution_count": 16,
      "outputs": [
        {
          "output_type": "stream",
          "text": [
            "Test Score: 333.87956324859124\n"
          ],
          "name": "stdout"
        }
      ]
    },
    {
      "metadata": {
        "id": "BAFwZ4iG_sA5",
        "colab_type": "text"
      },
      "cell_type": "markdown",
      "source": [
        "#### Or use the GridSearch's `score` method to get the final test score. "
      ]
    },
    {
      "metadata": {
        "id": "RhyoVpCmAbc2",
        "colab_type": "text"
      },
      "cell_type": "markdown",
      "source": [
        "This method just generates the test predictions and scores them, returning the (negative) test score to you. So you apply the negative symbol to flip the sign from negative to positive. "
      ]
    },
    {
      "metadata": {
        "id": "7MQYtnmxV159",
        "colab_type": "code",
        "colab": {
          "base_uri": "https://localhost:8080/",
          "height": 49
        },
        "outputId": "deabf24a-ff10-4161-858d-b974d659651f"
      },
      "cell_type": "code",
      "source": [
        "train_score = gs.score(X_train, y_train)\n",
        "print('Train Score:', -train_score)\n",
        "\n",
        "# Or use the grid search's score method, \n",
        "# which combines these steps\n",
        "test_score = gs.score(X_test, y_test)\n",
        "\n",
        "print('Test Score:', -test_score)"
      ],
      "execution_count": 17,
      "outputs": [
        {
          "output_type": "stream",
          "text": [
            "Train Score: 272.8314219289632\n",
            "Test Score: 333.87956324859124\n"
          ],
          "name": "stdout"
        }
      ]
    },
    {
      "metadata": {
        "id": "krmq2YHOquGX",
        "colab_type": "code",
        "colab": {}
      },
      "cell_type": "code",
      "source": [
        "'''def vary_scale(typ): \n",
        "  if typ=='robust': return RobustScaler\n",
        "  elif typ=='standard': return StandardScaler\n",
        "  else: Fail\n",
        "\n",
        "pipe = Pipeline(steps=[  ... , ('scale', FunctionTransformer(vary_scale)), ... ])\n",
        "\n",
        "param_grid = { \n",
        "    ... , \n",
        "    FunctionTransformer'vary_scale__choice': ['robust', 'standard'],\n",
        "    ... }\n",
        "\n",
        "search = GridSearchCV(pipe, param_grid, ...)''';"
      ],
      "execution_count": 0,
      "outputs": []
    },
    {
      "metadata": {
        "id": "vMAep3bWAqE9",
        "colab_type": "text"
      },
      "cell_type": "markdown",
      "source": [
        "### Now we can explore and see what features we actually ended up selecting. "
      ]
    },
    {
      "metadata": {
        "id": "7qeb9ed8bIAE",
        "colab_type": "code",
        "colab": {
          "base_uri": "https://localhost:8080/",
          "height": 741
        },
        "outputId": "4ba166a6-08a5-4e5d-8be0-1cc73387c874"
      },
      "cell_type": "code",
      "source": [
        "# Which features were selected?\n",
        "# 'selectkbest' is the autogenerated name of the SelectKBest() function in the pipeline\n",
        "selector = gs.best_estimator_.named_steps['selectkbest']\n",
        "all_names = X_train.columns\n",
        "\n",
        "# get_support returns a mask of the columns in True / False\n",
        "selected_mask = selector.get_support()\n",
        "# Passing the boolean list as the column names creates a \n",
        "selected_names = all_names[selected_mask]\n",
        "unselected_names = all_names[~selected_mask]\n",
        "\n",
        "print('Features selected:')\n",
        "for name in selected_names:\n",
        "    print(name)\n",
        "\n",
        "print()\n",
        "print('Features not selected:')\n",
        "for name in unselected_names:\n",
        "    print(name)"
      ],
      "execution_count": 19,
      "outputs": [
        {
          "output_type": "stream",
          "text": [
            "Features selected:\n",
            "year_\n",
            "weekday_\n",
            "order\n",
            "ID\n",
            "PRCP\n",
            "TMAX\n",
            "TMIN\n",
            "AWND\n",
            "Total_yesterday\n",
            "Mon\n",
            "Tue\n",
            "Wed\n",
            "Thu\n",
            "Sat\n",
            "Sun\n",
            "holiday\n",
            "Jan\n",
            "Feb\n",
            "Mar\n",
            "May\n",
            "Jun\n",
            "Jul\n",
            "Aug\n",
            "Nov\n",
            "Dec\n",
            "daylight_hrs\n",
            "Temp (C)\n",
            "dry day\n",
            "annual\n",
            "PRCP_yest\n",
            "Windchill\n",
            "Rl_Cold\n",
            "TMIN_ln\n",
            "\n",
            "Features not selected:\n",
            "month_\n",
            "dayOfMonth_\n",
            "SNOW\n",
            "SNWD\n",
            "Fri\n",
            "Apr\n",
            "Sep\n",
            "Oct\n"
          ],
          "name": "stdout"
        }
      ]
    },
    {
      "metadata": {
        "id": "m1udZEbjrIVw",
        "colab_type": "text"
      },
      "cell_type": "markdown",
      "source": [
        "## Now Lets Try with Tsfresh (Relevant Time Feature Augmentor)"
      ]
    },
    {
      "metadata": {
        "id": "mtUgUci6uUZW",
        "colab_type": "code",
        "colab": {
          "base_uri": "https://localhost:8080/",
          "height": 201
        },
        "outputId": "e470c9c4-60a8-4c16-b71a-1d72277bb5c3"
      },
      "cell_type": "code",
      "source": [
        "data.head()"
      ],
      "execution_count": 20,
      "outputs": [
        {
          "output_type": "execute_result",
          "data": {
            "text/html": [
              "<div>\n",
              "<style scoped>\n",
              "    .dataframe tbody tr th:only-of-type {\n",
              "        vertical-align: middle;\n",
              "    }\n",
              "\n",
              "    .dataframe tbody tr th {\n",
              "        vertical-align: top;\n",
              "    }\n",
              "\n",
              "    .dataframe thead th {\n",
              "        text-align: right;\n",
              "    }\n",
              "</style>\n",
              "<table border=\"1\" class=\"dataframe\">\n",
              "  <thead>\n",
              "    <tr style=\"text-align: right;\">\n",
              "      <th></th>\n",
              "      <th>order</th>\n",
              "      <th>ID</th>\n",
              "      <th>Total</th>\n",
              "      <th>PRCP</th>\n",
              "      <th>SNOW</th>\n",
              "      <th>SNWD</th>\n",
              "      <th>TMAX</th>\n",
              "      <th>TMIN</th>\n",
              "      <th>AWND</th>\n",
              "      <th>Total_yesterday</th>\n",
              "    </tr>\n",
              "  </thead>\n",
              "  <tbody>\n",
              "    <tr>\n",
              "      <th>2012-10-04</th>\n",
              "      <td>0</td>\n",
              "      <td>0</td>\n",
              "      <td>3475.0</td>\n",
              "      <td>0</td>\n",
              "      <td>0</td>\n",
              "      <td>0</td>\n",
              "      <td>189</td>\n",
              "      <td>83</td>\n",
              "      <td>65</td>\n",
              "      <td>3521.0</td>\n",
              "    </tr>\n",
              "    <tr>\n",
              "      <th>2012-10-05</th>\n",
              "      <td>1</td>\n",
              "      <td>1</td>\n",
              "      <td>3148.0</td>\n",
              "      <td>0</td>\n",
              "      <td>0</td>\n",
              "      <td>0</td>\n",
              "      <td>217</td>\n",
              "      <td>89</td>\n",
              "      <td>57</td>\n",
              "      <td>3475.0</td>\n",
              "    </tr>\n",
              "    <tr>\n",
              "      <th>2012-10-06</th>\n",
              "      <td>2</td>\n",
              "      <td>2</td>\n",
              "      <td>2006.0</td>\n",
              "      <td>0</td>\n",
              "      <td>0</td>\n",
              "      <td>0</td>\n",
              "      <td>239</td>\n",
              "      <td>78</td>\n",
              "      <td>51</td>\n",
              "      <td>3148.0</td>\n",
              "    </tr>\n",
              "    <tr>\n",
              "      <th>2012-10-07</th>\n",
              "      <td>3</td>\n",
              "      <td>3</td>\n",
              "      <td>2142.0</td>\n",
              "      <td>0</td>\n",
              "      <td>0</td>\n",
              "      <td>0</td>\n",
              "      <td>239</td>\n",
              "      <td>78</td>\n",
              "      <td>13</td>\n",
              "      <td>2006.0</td>\n",
              "    </tr>\n",
              "    <tr>\n",
              "      <th>2012-10-08</th>\n",
              "      <td>4</td>\n",
              "      <td>4</td>\n",
              "      <td>3537.0</td>\n",
              "      <td>0</td>\n",
              "      <td>0</td>\n",
              "      <td>0</td>\n",
              "      <td>211</td>\n",
              "      <td>78</td>\n",
              "      <td>19</td>\n",
              "      <td>2142.0</td>\n",
              "    </tr>\n",
              "  </tbody>\n",
              "</table>\n",
              "</div>"
            ],
            "text/plain": [
              "            order  ID   Total  PRCP  SNOW  SNWD  TMAX  TMIN  AWND  \\\n",
              "2012-10-04      0   0  3475.0     0     0     0   189    83    65   \n",
              "2012-10-05      1   1  3148.0     0     0     0   217    89    57   \n",
              "2012-10-06      2   2  2006.0     0     0     0   239    78    51   \n",
              "2012-10-07      3   3  2142.0     0     0     0   239    78    13   \n",
              "2012-10-08      4   4  3537.0     0     0     0   211    78    19   \n",
              "\n",
              "            Total_yesterday  \n",
              "2012-10-04           3521.0  \n",
              "2012-10-05           3475.0  \n",
              "2012-10-06           3148.0  \n",
              "2012-10-07           2006.0  \n",
              "2012-10-08           2142.0  "
            ]
          },
          "metadata": {
            "tags": []
          },
          "execution_count": 20
        }
      ]
    },
    {
      "metadata": {
        "id": "Jg1KV6zozp5B",
        "colab_type": "text"
      },
      "cell_type": "markdown",
      "source": [
        ""
      ]
    },
    {
      "metadata": {
        "id": "GAHomWV5sZV6",
        "colab_type": "code",
        "colab": {}
      },
      "cell_type": "code",
      "source": [
        "# Split data into train and test\n",
        "X_train, X_test, y_train, y_test = split(wrangled_oh_ord_data)"
      ],
      "execution_count": 0,
      "outputs": []
    },
    {
      "metadata": {
        "id": "IGRXlELisftT",
        "colab_type": "code",
        "colab": {
          "base_uri": "https://localhost:8080/",
          "height": 350
        },
        "outputId": "fabf49ee-5cae-4394-ffd3-8429ae6e3b7c"
      },
      "cell_type": "code",
      "source": [
        "X_train.head()"
      ],
      "execution_count": 22,
      "outputs": [
        {
          "output_type": "execute_result",
          "data": {
            "text/html": [
              "<div>\n",
              "<style scoped>\n",
              "    .dataframe tbody tr th:only-of-type {\n",
              "        vertical-align: middle;\n",
              "    }\n",
              "\n",
              "    .dataframe tbody tr th {\n",
              "        vertical-align: top;\n",
              "    }\n",
              "\n",
              "    .dataframe thead th {\n",
              "        text-align: right;\n",
              "    }\n",
              "</style>\n",
              "<table border=\"1\" class=\"dataframe\">\n",
              "  <thead>\n",
              "    <tr style=\"text-align: right;\">\n",
              "      <th></th>\n",
              "      <th>year_</th>\n",
              "      <th>month_</th>\n",
              "      <th>dayOfMonth_</th>\n",
              "      <th>weekday_</th>\n",
              "      <th>order</th>\n",
              "      <th>ID</th>\n",
              "      <th>PRCP</th>\n",
              "      <th>SNOW</th>\n",
              "      <th>SNWD</th>\n",
              "      <th>TMAX</th>\n",
              "      <th>...</th>\n",
              "      <th>Nov</th>\n",
              "      <th>Dec</th>\n",
              "      <th>daylight_hrs</th>\n",
              "      <th>Temp (C)</th>\n",
              "      <th>dry day</th>\n",
              "      <th>annual</th>\n",
              "      <th>PRCP_yest</th>\n",
              "      <th>Windchill</th>\n",
              "      <th>Rl_Cold</th>\n",
              "      <th>TMIN_ln</th>\n",
              "    </tr>\n",
              "  </thead>\n",
              "  <tbody>\n",
              "    <tr>\n",
              "      <th>2012-10-04</th>\n",
              "      <td>2012</td>\n",
              "      <td>10</td>\n",
              "      <td>4</td>\n",
              "      <td>3</td>\n",
              "      <td>0</td>\n",
              "      <td>0</td>\n",
              "      <td>0.0</td>\n",
              "      <td>0</td>\n",
              "      <td>0</td>\n",
              "      <td>18.9</td>\n",
              "      <td>...</td>\n",
              "      <td>0.0</td>\n",
              "      <td>0.0</td>\n",
              "      <td>11.219142</td>\n",
              "      <td>13.60</td>\n",
              "      <td>1</td>\n",
              "      <td>0.000000</td>\n",
              "      <td>0.115555</td>\n",
              "      <td>11.462882</td>\n",
              "      <td>7.231732</td>\n",
              "      <td>68.89</td>\n",
              "    </tr>\n",
              "    <tr>\n",
              "      <th>2012-10-05</th>\n",
              "      <td>2012</td>\n",
              "      <td>10</td>\n",
              "      <td>5</td>\n",
              "      <td>4</td>\n",
              "      <td>1</td>\n",
              "      <td>1</td>\n",
              "      <td>0.0</td>\n",
              "      <td>0</td>\n",
              "      <td>0</td>\n",
              "      <td>21.7</td>\n",
              "      <td>...</td>\n",
              "      <td>0.0</td>\n",
              "      <td>0.0</td>\n",
              "      <td>11.161038</td>\n",
              "      <td>15.30</td>\n",
              "      <td>1</td>\n",
              "      <td>0.002740</td>\n",
              "      <td>0.000000</td>\n",
              "      <td>15.966438</td>\n",
              "      <td>6.429757</td>\n",
              "      <td>79.21</td>\n",
              "    </tr>\n",
              "    <tr>\n",
              "      <th>2012-10-06</th>\n",
              "      <td>2012</td>\n",
              "      <td>10</td>\n",
              "      <td>6</td>\n",
              "      <td>5</td>\n",
              "      <td>2</td>\n",
              "      <td>2</td>\n",
              "      <td>0.0</td>\n",
              "      <td>0</td>\n",
              "      <td>0</td>\n",
              "      <td>23.9</td>\n",
              "      <td>...</td>\n",
              "      <td>0.0</td>\n",
              "      <td>0.0</td>\n",
              "      <td>11.103056</td>\n",
              "      <td>15.85</td>\n",
              "      <td>1</td>\n",
              "      <td>0.005479</td>\n",
              "      <td>0.000000</td>\n",
              "      <td>18.006641</td>\n",
              "      <td>5.846311</td>\n",
              "      <td>60.84</td>\n",
              "    </tr>\n",
              "    <tr>\n",
              "      <th>2012-10-07</th>\n",
              "      <td>2012</td>\n",
              "      <td>10</td>\n",
              "      <td>7</td>\n",
              "      <td>6</td>\n",
              "      <td>3</td>\n",
              "      <td>3</td>\n",
              "      <td>0.0</td>\n",
              "      <td>0</td>\n",
              "      <td>0</td>\n",
              "      <td>23.9</td>\n",
              "      <td>...</td>\n",
              "      <td>0.0</td>\n",
              "      <td>0.0</td>\n",
              "      <td>11.045208</td>\n",
              "      <td>15.85</td>\n",
              "      <td>1</td>\n",
              "      <td>0.008219</td>\n",
              "      <td>0.000000</td>\n",
              "      <td>28.683555</td>\n",
              "      <td>-0.085308</td>\n",
              "      <td>60.84</td>\n",
              "    </tr>\n",
              "    <tr>\n",
              "      <th>2012-10-08</th>\n",
              "      <td>2012</td>\n",
              "      <td>10</td>\n",
              "      <td>8</td>\n",
              "      <td>0</td>\n",
              "      <td>4</td>\n",
              "      <td>4</td>\n",
              "      <td>0.0</td>\n",
              "      <td>0</td>\n",
              "      <td>0</td>\n",
              "      <td>21.1</td>\n",
              "      <td>...</td>\n",
              "      <td>0.0</td>\n",
              "      <td>0.0</td>\n",
              "      <td>10.987503</td>\n",
              "      <td>14.45</td>\n",
              "      <td>1</td>\n",
              "      <td>0.010959</td>\n",
              "      <td>0.000000</td>\n",
              "      <td>23.424626</td>\n",
              "      <td>1.436319</td>\n",
              "      <td>60.84</td>\n",
              "    </tr>\n",
              "  </tbody>\n",
              "</table>\n",
              "<p>5 rows × 41 columns</p>\n",
              "</div>"
            ],
            "text/plain": [
              "            year_  month_  dayOfMonth_  weekday_  order  ID  PRCP  SNOW  SNWD  \\\n",
              "2012-10-04   2012      10            4         3      0   0   0.0     0     0   \n",
              "2012-10-05   2012      10            5         4      1   1   0.0     0     0   \n",
              "2012-10-06   2012      10            6         5      2   2   0.0     0     0   \n",
              "2012-10-07   2012      10            7         6      3   3   0.0     0     0   \n",
              "2012-10-08   2012      10            8         0      4   4   0.0     0     0   \n",
              "\n",
              "            TMAX   ...     Nov  Dec  daylight_hrs  Temp (C)  dry day  \\\n",
              "2012-10-04  18.9   ...     0.0  0.0     11.219142     13.60        1   \n",
              "2012-10-05  21.7   ...     0.0  0.0     11.161038     15.30        1   \n",
              "2012-10-06  23.9   ...     0.0  0.0     11.103056     15.85        1   \n",
              "2012-10-07  23.9   ...     0.0  0.0     11.045208     15.85        1   \n",
              "2012-10-08  21.1   ...     0.0  0.0     10.987503     14.45        1   \n",
              "\n",
              "              annual  PRCP_yest  Windchill   Rl_Cold  TMIN_ln  \n",
              "2012-10-04  0.000000   0.115555  11.462882  7.231732    68.89  \n",
              "2012-10-05  0.002740   0.000000  15.966438  6.429757    79.21  \n",
              "2012-10-06  0.005479   0.000000  18.006641  5.846311    60.84  \n",
              "2012-10-07  0.008219   0.000000  28.683555 -0.085308    60.84  \n",
              "2012-10-08  0.010959   0.000000  23.424626  1.436319    60.84  \n",
              "\n",
              "[5 rows x 41 columns]"
            ]
          },
          "metadata": {
            "tags": []
          },
          "execution_count": 22
        }
      ]
    },
    {
      "metadata": {
        "id": "PcgtQeE6zrp9",
        "colab_type": "code",
        "colab": {
          "base_uri": "https://localhost:8080/",
          "height": 32
        },
        "outputId": "86155bec-d266-4f0a-8a3e-0cb922fea473"
      },
      "cell_type": "code",
      "source": [
        "# Find all the features, even the irrelevant ones.\n",
        "%%time\n",
        "from tsfresh.transformers import RelevantFeatureAugmenter\n",
        "from tsfresh import extract_features\n",
        "\n",
        "extracted_features = extract_features(wrangled_oh_ord_data, column_id=\"annual\", column_sort=\"ID\")\n",
        "\n",
        "from tsfresh.utilities.dataframe_functions import impute\n",
        "\n",
        "features = impute(extracted_features)"
      ],
      "execution_count": 0,
      "outputs": [
        {
          "output_type": "stream",
          "text": [
            "\rFeature Extraction:   0%|          | 0/5 [00:00<?, ?it/s]"
          ],
          "name": "stderr"
        }
      ]
    },
    {
      "metadata": {
        "id": "Wl-Ei064wPQ0",
        "colab_type": "code",
        "colab": {}
      },
      "cell_type": "code",
      "source": [
        "\n",
        "from tsfresh import extract_relevant_features\n",
        "features_filtered_direct = extract_relevant_features(X_train, y_train,\n",
        "                                                     column_id='annual', column_sort='ID')\n",
        "\n",
        "\n",
        "features_filtered_direct"
      ],
      "execution_count": 0,
      "outputs": []
    },
    {
      "metadata": {
        "id": "w3GqsKr2imNt",
        "colab_type": "code",
        "colab": {}
      },
      "cell_type": "code",
      "source": [
        ""
      ],
      "execution_count": 0,
      "outputs": []
    },
    {
      "metadata": {
        "id": "yFl7jaBXt7LT",
        "colab_type": "code",
        "colab": {
          "base_uri": "https://localhost:8080/",
          "height": 243
        },
        "outputId": "7f38a6a2-a13d-4a7b-e0ad-a70fdfa32636"
      },
      "cell_type": "code",
      "source": [
        "df_ts, y = y_train\n",
        "X = X_train\n",
        "\n",
        "\n",
        "\n",
        "# Define an estimator and param_grid\n",
        "# WHEN DEFINING YOU CAN GIVE IT A NAME OTHERWISE IT WILL USE THE PIPELINE NAME AUTOGEN NAME (name of the function but lowercase)\n",
        "pipe = make_pipeline(\n",
        "    RelevantFeatureAugmenter(column_id='id'),\n",
        "    RobustScaler(), \n",
        "    SelectKBest(f_regression), \n",
        "    Ridge())\n",
        "\n",
        "pipe.get_params(augmenter__timeseries_container= df_ts)\n",
        "\n",
        "param_grid = {\n",
        "    'selectkbest__k': range(1, len(X_train.columns)+1), \n",
        "    'ridge__alpha': [0.1, 1.0, 10.]\n",
        "}\n",
        "\n",
        "# Fit on the train set, with grid search cross-validation\n",
        "gs = GridSearchCV(pipe, param_grid=param_grid, cv=3, \n",
        "                  scoring='neg_mean_absolute_error', \n",
        "                  verbose=1)\n",
        "\n",
        "gs.fit(X, y)\n",
        "validation_score = gs.best_score_\n",
        "print()\n",
        "print('Cross-Validation Score:', -validation_score)\n",
        "print()\n",
        "print('Best estimator:', gs.best_estimator_)\n",
        "print()\n"
      ],
      "execution_count": 81,
      "outputs": [
        {
          "output_type": "error",
          "ename": "ValueError",
          "evalue": "ignored",
          "traceback": [
            "\u001b[0;31m---------------------------------------------------------------------------\u001b[0m",
            "\u001b[0;31mValueError\u001b[0m                                Traceback (most recent call last)",
            "\u001b[0;32m<ipython-input-81-f074b380a4e0>\u001b[0m in \u001b[0;36m<module>\u001b[0;34m()\u001b[0m\n\u001b[0;32m----> 1\u001b[0;31m \u001b[0mdf_ts\u001b[0m\u001b[0;34m,\u001b[0m \u001b[0my\u001b[0m \u001b[0;34m=\u001b[0m \u001b[0my_train\u001b[0m\u001b[0;34m\u001b[0m\u001b[0;34m\u001b[0m\u001b[0m\n\u001b[0m\u001b[1;32m      2\u001b[0m \u001b[0mX\u001b[0m \u001b[0;34m=\u001b[0m \u001b[0mX_train\u001b[0m\u001b[0;34m\u001b[0m\u001b[0;34m\u001b[0m\u001b[0m\n\u001b[1;32m      3\u001b[0m \u001b[0;34m\u001b[0m\u001b[0m\n\u001b[1;32m      4\u001b[0m \u001b[0;31m# Define an estimator and param_grid\u001b[0m\u001b[0;34m\u001b[0m\u001b[0;34m\u001b[0m\u001b[0;34m\u001b[0m\u001b[0m\n\u001b[1;32m      5\u001b[0m \u001b[0;31m# WHEN DEFINING YOU CAN GIVE IT A NAME OTHERWISE IT WILL USE THE PIPELINE NAME AUTOGEN NAME (name of the function but lowercase)\u001b[0m\u001b[0;34m\u001b[0m\u001b[0;34m\u001b[0m\u001b[0;34m\u001b[0m\u001b[0m\n",
            "\u001b[0;31mValueError\u001b[0m: too many values to unpack (expected 2)"
          ]
        }
      ]
    },
    {
      "metadata": {
        "id": "Sj2UndsJt8BW",
        "colab_type": "code",
        "colab": {}
      },
      "cell_type": "code",
      "source": [
        "# Predict with X_test features\n",
        "y_pred = gs.predict(X_test)\n",
        "\n",
        "# Compare predictions to y_test labels\n",
        "test_score = mean_absolute_error(y_test, y_pred)\n",
        "print('Test Score:', test_score)"
      ],
      "execution_count": 0,
      "outputs": []
    },
    {
      "metadata": {
        "id": "urdgBk_Vp6ZN",
        "colab_type": "text"
      },
      "cell_type": "markdown",
      "source": [
        "## BONUS: Recursive Feature Elimination!\n",
        "\n",
        "https://scikit-learn.org/stable/modules/generated/sklearn.feature_selection.RFECV.html"
      ]
    },
    {
      "metadata": {
        "id": "EEvISfuimpQV",
        "colab_type": "code",
        "colab": {
          "base_uri": "https://localhost:8080/",
          "height": 642
        },
        "outputId": "d87efc23-ff29-4c15-abec-45c6e73b0f7e"
      },
      "cell_type": "code",
      "source": [
        "from sklearn.feature_selection import RFECV\n",
        "\n",
        "X_train_scaled = RobustScaler().fit_transform(X_train)\n",
        "rfe = RFECV(Ridge(alpha=1.0), scoring='neg_mean_absolute_error', cv=3)\n",
        "X_train_subset = rfe.fit_transform(X_train_scaled, y_train)\n",
        "\n",
        "all_names = X_train.columns\n",
        "selected_mask = rfe.support_\n",
        "selected_names = all_names[selected_mask]\n",
        "unselected_names = all_names[~selected_mask]\n",
        "\n",
        "print('Features selected:')\n",
        "for name in selected_names:\n",
        "    print(name)\n",
        "\n",
        "print()\n",
        "print('Features not selected:')\n",
        "for name in unselected_names:\n",
        "    print(name)"
      ],
      "execution_count": 8,
      "outputs": [
        {
          "output_type": "stream",
          "text": [
            "Features selected:\n",
            "PRCP\n",
            "TMAX\n",
            "TMIN\n",
            "AWND\n",
            "Total_yesterday\n",
            "Mon\n",
            "Tue\n",
            "Wed\n",
            "Thu\n",
            "Fri\n",
            "Sat\n",
            "Sun\n",
            "holiday\n",
            "daylight_hrs\n",
            "Temp (C)\n",
            "dry day\n",
            "Windchill\n",
            "Rl_Cold\n",
            "TMIN_ln\n",
            "Mar\n",
            "May\n",
            "Jun\n",
            "Oct\n",
            "Dec\n",
            "\n",
            "Features not selected:\n",
            "SNOW\n",
            "SNWD\n",
            "annual\n",
            "PRCP_yest\n",
            "Jan\n",
            "Feb\n",
            "Apr\n",
            "Jul\n",
            "Aug\n",
            "Sep\n",
            "Nov\n"
          ],
          "name": "stdout"
        }
      ]
    },
    {
      "metadata": {
        "id": "hoCUHkuGpjvX",
        "colab_type": "code",
        "colab": {}
      },
      "cell_type": "code",
      "source": [
        "X_train_subset = pd.DataFrame(X_train_subset, columns=selected_names)"
      ],
      "execution_count": 0,
      "outputs": []
    },
    {
      "metadata": {
        "id": "zZKoH475ppag",
        "colab_type": "code",
        "colab": {}
      },
      "cell_type": "code",
      "source": [
        "X_test_subset = rfe.transform(X_test)\n",
        "X_test_subset = pd.DataFrame(X_test_subset, columns=selected_names)"
      ],
      "execution_count": 0,
      "outputs": []
    },
    {
      "metadata": {
        "id": "mhcS0n8ApuUx",
        "colab_type": "code",
        "colab": {
          "base_uri": "https://localhost:8080/",
          "height": 32
        },
        "outputId": "aaa57937-d734-415a-ecac-707fdf2464cb"
      },
      "cell_type": "code",
      "source": [
        "print(X_train.shape, X_train_subset.shape, X_test.shape, X_test_subset.shape)"
      ],
      "execution_count": 11,
      "outputs": [
        {
          "output_type": "stream",
          "text": [
            "(963, 35) (963, 24) (100, 35) (100, 24)\n"
          ],
          "name": "stdout"
        }
      ]
    },
    {
      "metadata": {
        "id": "_OpHu92Yto88",
        "colab_type": "text"
      },
      "cell_type": "markdown",
      "source": [
        "# RFE again, but with polynomial features and interaction terms!"
      ]
    },
    {
      "metadata": {
        "id": "cxtlgAQTOaXW",
        "colab_type": "text"
      },
      "cell_type": "markdown",
      "source": [
        "### Apply a Polynomial Transformation"
      ]
    },
    {
      "metadata": {
        "id": "ArgRECEUtyH4",
        "colab_type": "code",
        "colab": {
          "base_uri": "https://localhost:8080/",
          "height": 32
        },
        "outputId": "3d6c71e8-69ba-439d-8d70-bc791c63bf42"
      },
      "cell_type": "code",
      "source": [
        "from sklearn.preprocessing import PolynomialFeatures\n",
        "\n",
        "poly = PolynomialFeatures(degree=2)\n",
        "X_train_polynomial = poly.fit_transform(X_train)\n",
        "\n",
        "print(X_train.shape, X_train_polynomial.shape)"
      ],
      "execution_count": 27,
      "outputs": [
        {
          "output_type": "stream",
          "text": [
            "(963, 35) (963, 666)\n"
          ],
          "name": "stdout"
        }
      ]
    },
    {
      "metadata": {
        "id": "YGdOekpYOemW",
        "colab_type": "text"
      },
      "cell_type": "markdown",
      "source": [
        "### Apply a Scaler & RFECV"
      ]
    },
    {
      "metadata": {
        "id": "TWVHh35wsdE7",
        "colab_type": "code",
        "colab": {}
      },
      "cell_type": "code",
      "source": [
        "from sklearn.feature_selection import RFECV\n",
        "\n",
        "scaler = RobustScaler()\n",
        "X_train_scaled = scaler.fit_transform(X_train_polynomial)\n",
        "\n",
        "rfe = RFECV(Ridge(alpha=1.0), scoring='neg_mean_absolute_error', \n",
        "            step=10, cv=3, verbose=1)\n",
        "\n",
        "X_train_subset = rfe.fit_transform(X_train_scaled, y_train)"
      ],
      "execution_count": 0,
      "outputs": []
    },
    {
      "metadata": {
        "id": "xjWSr7JfOwlg",
        "colab_type": "text"
      },
      "cell_type": "markdown",
      "source": [
        "### Look at all of those new features!\n"
      ]
    },
    {
      "metadata": {
        "id": "TrMRGvezuDD7",
        "colab_type": "code",
        "colab": {}
      },
      "cell_type": "code",
      "source": [
        "all_names = poly.get_feature_names(X_train.columns)\n",
        "selected_mask = rfe.support_\n",
        "selected_names = [name for name, selected in zip(all_names, selected_mask) if selected]\n",
        "\n",
        "print(f'{rfe.n_features_} Features selected:')\n",
        "for name in selected_names:\n",
        "    print(name)"
      ],
      "execution_count": 0,
      "outputs": []
    },
    {
      "metadata": {
        "id": "k7QIGrbrNt7b",
        "colab_type": "text"
      },
      "cell_type": "markdown",
      "source": [
        "### Now we can experiment with mulitple ridge settings for selecting features. "
      ]
    },
    {
      "metadata": {
        "id": "Pku8KixHv3CF",
        "colab_type": "code",
        "colab": {
          "base_uri": "https://localhost:8080/",
          "height": 164
        },
        "outputId": "4e48cb7d-272b-4b9a-ff23-c36d83cdc19d"
      },
      "cell_type": "code",
      "source": [
        "# Define an estimator and param_grid\n",
        "\n",
        "ridge = Ridge()\n",
        "\n",
        "param_grid = {\n",
        "    'alpha': [0.1, 1.0, 10.]\n",
        "}\n",
        "\n",
        "# Fit on the train set, with grid search cross-validation\n",
        "gs = GridSearchCV(ridge, param_grid=param_grid, cv=3, \n",
        "                  scoring='neg_mean_absolute_error', \n",
        "                  verbose=1)\n",
        "\n",
        "gs.fit(X_train_subset, y_train)\n",
        "validation_score = gs.best_score_\n",
        "print()\n",
        "print('Cross-Validation Score:', -validation_score)\n",
        "print()\n",
        "print('Best estimator:', gs.best_estimator_)\n",
        "print()"
      ],
      "execution_count": 30,
      "outputs": [
        {
          "output_type": "stream",
          "text": [
            "Fitting 3 folds for each of 3 candidates, totalling 9 fits\n",
            "\n",
            "Cross-Validation Score: 247.80985367683917\n",
            "\n",
            "Best estimator: Ridge(alpha=1.0, copy_X=True, fit_intercept=True, max_iter=None,\n",
            "   normalize=False, random_state=None, solver='auto', tol=0.001)\n",
            "\n"
          ],
          "name": "stdout"
        },
        {
          "output_type": "stream",
          "text": [
            "[Parallel(n_jobs=1)]: Using backend SequentialBackend with 1 concurrent workers.\n",
            "[Parallel(n_jobs=1)]: Done   9 out of   9 | elapsed:    0.1s finished\n"
          ],
          "name": "stderr"
        }
      ]
    },
    {
      "metadata": {
        "id": "NnpbyDLSwPIH",
        "colab_type": "code",
        "colab": {}
      },
      "cell_type": "code",
      "source": [
        "# Do the same transformations to X_test (Applying the same transformations to each set so we can check the test scores)\n",
        "X_test_polynomial = poly.transform(X_test)\n",
        "X_test_scaled = scaler.transform(X_test_polynomial)\n",
        "X_test_subset = rfe.transform(X_test_scaled)\n",
        "\n",
        "# Use the grid search's score method with X_test_subset\n",
        "test_score = gs.score(X_test_subset, y_test)\n",
        "print('Test Score:', -test_score)"
      ],
      "execution_count": 0,
      "outputs": []
    },
    {
      "metadata": {
        "id": "oEoqn553SgZZ",
        "colab_type": "text"
      },
      "cell_type": "markdown",
      "source": [
        "###  Exploring other regression\n"
      ]
    },
    {
      "metadata": {
        "id": "8Akh6ApESza8",
        "colab_type": "code",
        "colab": {
          "base_uri": "https://localhost:8080/",
          "height": 11241
        },
        "outputId": "f99da97e-0cf3-4928-b380-8ad752bd74a0"
      },
      "cell_type": "code",
      "source": [
        "# Authors: Jan Hendrik Metzen <jhm@informatik.uni-bremen.de>\n",
        "#\n",
        "# License: BSD 3 clause\n",
        "\n",
        "from __future__ import division, print_function\n",
        "\n",
        "import numpy as np\n",
        "\n",
        "from matplotlib import pyplot as plt\n",
        "from sklearn.datasets import fetch_openml\n",
        "from sklearn.gaussian_process import GaussianProcessRegressor\n",
        "from sklearn.gaussian_process.kernels \\\n",
        "    import RBF, WhiteKernel, RationalQuadratic, ExpSineSquared\n",
        "\n",
        "print(__doc__)\n",
        "\n",
        "\n",
        "def load_mauna_loa_atmospheric_co2():\n",
        "    ml_data = fetch_openml(data_id=41187)\n",
        "    months = []\n",
        "    ppmv_sums = []\n",
        "    counts = []\n",
        "\n",
        "    y = ml_data.data[:, 0]\n",
        "    m = ml_data.data[:, 1]\n",
        "    month_float = y + (m - 1) / 12\n",
        "    ppmvs = ml_data.target\n",
        "\n",
        "    for month, ppmv in zip(month_float, ppmvs):\n",
        "        if not months or month != months[-1]:\n",
        "            months.append(month)\n",
        "            ppmv_sums.append(ppmv)\n",
        "            counts.append(1)\n",
        "        else:\n",
        "            # aggregate monthly sum to produce average\n",
        "            ppmv_sums[-1] += ppmv\n",
        "            counts[-1] += 1\n",
        "\n",
        "    months = np.asarray(months).reshape(-1, 1)\n",
        "    avg_ppmvs = np.asarray(ppmv_sums) / counts\n",
        "    return months, avg_ppmvs\n",
        "\n",
        "\n",
        "X, y = load_mauna_loa_atmospheric_co2()\n",
        "\n",
        "print(load_mauna_loa_atmospheric_co2())\n",
        "\n",
        "# Kernel with parameters given in GPML book\n",
        "k1 = 66.0**2 * RBF(length_scale=67.0)  # long term smooth rising trend\n",
        "k2 = 2.4**2 * RBF(length_scale=90.0) \\\n",
        "    * ExpSineSquared(length_scale=1.3, periodicity=1.0)  # seasonal component\n",
        "# medium term irregularity\n",
        "k3 = 0.66**2 \\\n",
        "    * RationalQuadratic(length_scale=1.2, alpha=0.78)\n",
        "k4 = 0.18**2 * RBF(length_scale=0.134) \\\n",
        "    + WhiteKernel(noise_level=0.19**2)  # noise terms\n",
        "kernel_gpml = k1 + k2 + k3 + k4\n",
        "\n",
        "gp = GaussianProcessRegressor(kernel=kernel_gpml, alpha=0,\n",
        "                              optimizer=None, normalize_y=True)\n",
        "gp.fit(X, y)\n",
        "\n",
        "print(\"GPML kernel: %s\" % gp.kernel_)\n",
        "print(\"Log-marginal-likelihood: %.3f\"\n",
        "      % gp.log_marginal_likelihood(gp.kernel_.theta))\n",
        "\n",
        "# Kernel with optimized parameters\n",
        "k1 = 50.0**2 * RBF(length_scale=50.0)  # long term smooth rising trend\n",
        "k2 = 2.0**2 * RBF(length_scale=100.0) \\\n",
        "    * ExpSineSquared(length_scale=1.0, periodicity=1.0,\n",
        "                     periodicity_bounds=\"fixed\")  # seasonal component\n",
        "# medium term irregularities\n",
        "k3 = 0.5**2 * RationalQuadratic(length_scale=1.0, alpha=1.0)\n",
        "k4 = 0.1**2 * RBF(length_scale=0.1) \\\n",
        "    + WhiteKernel(noise_level=0.1**2,\n",
        "                  noise_level_bounds=(1e-3, np.inf))  # noise terms\n",
        "kernel = k1 + k2 + k3 + k4\n",
        "\n",
        "gp = GaussianProcessRegressor(kernel=kernel, alpha=0,\n",
        "                              normalize_y=True)\n",
        "gp.fit(X, y)\n",
        "\n",
        "print(\"\\nLearned kernel: %s\" % gp.kernel_)\n",
        "print(\"Log-marginal-likelihood: %.3f\"\n",
        "      % gp.log_marginal_likelihood(gp.kernel_.theta))\n",
        "\n",
        "X_ = np.linspace(X.min(), X.max() + 30, 1000)[:, np.newaxis]\n",
        "y_pred, y_std = gp.predict(X_, return_std=True)\n",
        "\n",
        "# Illustration\n",
        "plt.scatter(X, y, c='k')\n",
        "plt.plot(X_, y_pred)\n",
        "plt.fill_between(X_[:, 0], y_pred - y_std, y_pred + y_std,\n",
        "                 alpha=0.5, color='k')\n",
        "plt.xlim(X_.min(), X_.max())\n",
        "plt.xlabel(\"Year\")\n",
        "plt.ylabel(r\"CO$_2$ in ppm\")\n",
        "plt.title(r\"Atmospheric CO$_2$ concentration at Mauna Loa\")\n",
        "plt.tight_layout()\n",
        "plt.show()"
      ],
      "execution_count": 83,
      "outputs": [
        {
          "output_type": "stream",
          "text": [
            "Automatically created module for IPython interactive environment\n",
            "(array([[1958.16666667],\n",
            "       [1958.25      ],\n",
            "       [1958.33333333],\n",
            "       [1958.5       ],\n",
            "       [1958.58333333],\n",
            "       [1958.66666667],\n",
            "       [1958.83333333],\n",
            "       [1958.91666667],\n",
            "       [1959.        ],\n",
            "       [1959.08333333],\n",
            "       [1959.16666667],\n",
            "       [1959.25      ],\n",
            "       [1959.33333333],\n",
            "       [1959.41666667],\n",
            "       [1959.5       ],\n",
            "       [1959.58333333],\n",
            "       [1959.66666667],\n",
            "       [1959.75      ],\n",
            "       [1959.83333333],\n",
            "       [1959.91666667],\n",
            "       [1960.        ],\n",
            "       [1960.08333333],\n",
            "       [1960.16666667],\n",
            "       [1960.25      ],\n",
            "       [1960.33333333],\n",
            "       [1960.41666667],\n",
            "       [1960.5       ],\n",
            "       [1960.58333333],\n",
            "       [1960.66666667],\n",
            "       [1960.75      ],\n",
            "       [1960.83333333],\n",
            "       [1960.91666667],\n",
            "       [1961.        ],\n",
            "       [1961.08333333],\n",
            "       [1961.16666667],\n",
            "       [1961.25      ],\n",
            "       [1961.33333333],\n",
            "       [1961.41666667],\n",
            "       [1961.5       ],\n",
            "       [1961.58333333],\n",
            "       [1961.66666667],\n",
            "       [1961.75      ],\n",
            "       [1961.83333333],\n",
            "       [1961.91666667],\n",
            "       [1962.        ],\n",
            "       [1962.08333333],\n",
            "       [1962.16666667],\n",
            "       [1962.25      ],\n",
            "       [1962.33333333],\n",
            "       [1962.41666667],\n",
            "       [1962.5       ],\n",
            "       [1962.58333333],\n",
            "       [1962.66666667],\n",
            "       [1962.75      ],\n",
            "       [1962.83333333],\n",
            "       [1962.91666667],\n",
            "       [1963.        ],\n",
            "       [1963.08333333],\n",
            "       [1963.16666667],\n",
            "       [1963.25      ],\n",
            "       [1963.33333333],\n",
            "       [1963.41666667],\n",
            "       [1963.5       ],\n",
            "       [1963.58333333],\n",
            "       [1963.66666667],\n",
            "       [1963.75      ],\n",
            "       [1963.83333333],\n",
            "       [1963.91666667],\n",
            "       [1964.        ],\n",
            "       [1964.33333333],\n",
            "       [1964.41666667],\n",
            "       [1964.5       ],\n",
            "       [1964.58333333],\n",
            "       [1964.66666667],\n",
            "       [1964.75      ],\n",
            "       [1964.83333333],\n",
            "       [1964.91666667],\n",
            "       [1965.        ],\n",
            "       [1965.08333333],\n",
            "       [1965.16666667],\n",
            "       [1965.25      ],\n",
            "       [1965.33333333],\n",
            "       [1965.41666667],\n",
            "       [1965.5       ],\n",
            "       [1965.58333333],\n",
            "       [1965.66666667],\n",
            "       [1965.75      ],\n",
            "       [1965.83333333],\n",
            "       [1965.91666667],\n",
            "       [1966.        ],\n",
            "       [1966.08333333],\n",
            "       [1966.16666667],\n",
            "       [1966.25      ],\n",
            "       [1966.33333333],\n",
            "       [1966.41666667],\n",
            "       [1966.5       ],\n",
            "       [1966.58333333],\n",
            "       [1966.66666667],\n",
            "       [1966.75      ],\n",
            "       [1966.83333333],\n",
            "       [1966.91666667],\n",
            "       [1967.        ],\n",
            "       [1967.08333333],\n",
            "       [1967.16666667],\n",
            "       [1967.25      ],\n",
            "       [1967.33333333],\n",
            "       [1967.41666667],\n",
            "       [1967.5       ],\n",
            "       [1967.58333333],\n",
            "       [1967.66666667],\n",
            "       [1967.75      ],\n",
            "       [1967.83333333],\n",
            "       [1967.91666667],\n",
            "       [1968.        ],\n",
            "       [1968.08333333],\n",
            "       [1968.16666667],\n",
            "       [1968.25      ],\n",
            "       [1968.33333333],\n",
            "       [1968.41666667],\n",
            "       [1968.5       ],\n",
            "       [1968.58333333],\n",
            "       [1968.66666667],\n",
            "       [1968.75      ],\n",
            "       [1968.83333333],\n",
            "       [1968.91666667],\n",
            "       [1969.        ],\n",
            "       [1969.08333333],\n",
            "       [1969.16666667],\n",
            "       [1969.25      ],\n",
            "       [1969.33333333],\n",
            "       [1969.41666667],\n",
            "       [1969.5       ],\n",
            "       [1969.58333333],\n",
            "       [1969.66666667],\n",
            "       [1969.75      ],\n",
            "       [1969.83333333],\n",
            "       [1969.91666667],\n",
            "       [1970.        ],\n",
            "       [1970.08333333],\n",
            "       [1970.16666667],\n",
            "       [1970.25      ],\n",
            "       [1970.33333333],\n",
            "       [1970.41666667],\n",
            "       [1970.5       ],\n",
            "       [1970.58333333],\n",
            "       [1970.66666667],\n",
            "       [1970.75      ],\n",
            "       [1970.83333333],\n",
            "       [1970.91666667],\n",
            "       [1971.        ],\n",
            "       [1971.08333333],\n",
            "       [1971.16666667],\n",
            "       [1971.25      ],\n",
            "       [1971.33333333],\n",
            "       [1971.41666667],\n",
            "       [1971.5       ],\n",
            "       [1971.58333333],\n",
            "       [1971.66666667],\n",
            "       [1971.75      ],\n",
            "       [1971.83333333],\n",
            "       [1971.91666667],\n",
            "       [1972.        ],\n",
            "       [1972.08333333],\n",
            "       [1972.16666667],\n",
            "       [1972.25      ],\n",
            "       [1972.33333333],\n",
            "       [1972.41666667],\n",
            "       [1972.5       ],\n",
            "       [1972.58333333],\n",
            "       [1972.66666667],\n",
            "       [1972.75      ],\n",
            "       [1972.83333333],\n",
            "       [1972.91666667],\n",
            "       [1973.        ],\n",
            "       [1973.08333333],\n",
            "       [1973.16666667],\n",
            "       [1973.25      ],\n",
            "       [1973.33333333],\n",
            "       [1973.41666667],\n",
            "       [1973.5       ],\n",
            "       [1973.58333333],\n",
            "       [1973.66666667],\n",
            "       [1973.75      ],\n",
            "       [1973.83333333],\n",
            "       [1973.91666667],\n",
            "       [1974.        ],\n",
            "       [1974.08333333],\n",
            "       [1974.16666667],\n",
            "       [1974.25      ],\n",
            "       [1974.33333333],\n",
            "       [1974.41666667],\n",
            "       [1974.5       ],\n",
            "       [1974.58333333],\n",
            "       [1974.66666667],\n",
            "       [1974.75      ],\n",
            "       [1974.83333333],\n",
            "       [1974.91666667],\n",
            "       [1975.        ],\n",
            "       [1975.08333333],\n",
            "       [1975.16666667],\n",
            "       [1975.25      ],\n",
            "       [1975.33333333],\n",
            "       [1975.41666667],\n",
            "       [1975.5       ],\n",
            "       [1975.58333333],\n",
            "       [1975.66666667],\n",
            "       [1975.75      ],\n",
            "       [1975.83333333],\n",
            "       [1975.91666667],\n",
            "       [1976.        ],\n",
            "       [1976.08333333],\n",
            "       [1976.16666667],\n",
            "       [1976.25      ],\n",
            "       [1976.33333333],\n",
            "       [1976.41666667],\n",
            "       [1976.5       ],\n",
            "       [1976.58333333],\n",
            "       [1976.66666667],\n",
            "       [1976.75      ],\n",
            "       [1976.83333333],\n",
            "       [1976.91666667],\n",
            "       [1977.        ],\n",
            "       [1977.08333333],\n",
            "       [1977.16666667],\n",
            "       [1977.25      ],\n",
            "       [1977.33333333],\n",
            "       [1977.41666667],\n",
            "       [1977.5       ],\n",
            "       [1977.58333333],\n",
            "       [1977.66666667],\n",
            "       [1977.75      ],\n",
            "       [1977.83333333],\n",
            "       [1977.91666667],\n",
            "       [1978.        ],\n",
            "       [1978.08333333],\n",
            "       [1978.16666667],\n",
            "       [1978.25      ],\n",
            "       [1978.33333333],\n",
            "       [1978.41666667],\n",
            "       [1978.5       ],\n",
            "       [1978.58333333],\n",
            "       [1978.66666667],\n",
            "       [1978.75      ],\n",
            "       [1978.83333333],\n",
            "       [1978.91666667],\n",
            "       [1979.        ],\n",
            "       [1979.08333333],\n",
            "       [1979.16666667],\n",
            "       [1979.25      ],\n",
            "       [1979.33333333],\n",
            "       [1979.41666667],\n",
            "       [1979.5       ],\n",
            "       [1979.58333333],\n",
            "       [1979.66666667],\n",
            "       [1979.75      ],\n",
            "       [1979.83333333],\n",
            "       [1979.91666667],\n",
            "       [1980.        ],\n",
            "       [1980.08333333],\n",
            "       [1980.16666667],\n",
            "       [1980.25      ],\n",
            "       [1980.33333333],\n",
            "       [1980.41666667],\n",
            "       [1980.5       ],\n",
            "       [1980.58333333],\n",
            "       [1980.66666667],\n",
            "       [1980.75      ],\n",
            "       [1980.83333333],\n",
            "       [1980.91666667],\n",
            "       [1981.        ],\n",
            "       [1981.08333333],\n",
            "       [1981.16666667],\n",
            "       [1981.25      ],\n",
            "       [1981.33333333],\n",
            "       [1981.41666667],\n",
            "       [1981.5       ],\n",
            "       [1981.58333333],\n",
            "       [1981.66666667],\n",
            "       [1981.75      ],\n",
            "       [1981.83333333],\n",
            "       [1981.91666667],\n",
            "       [1982.        ],\n",
            "       [1982.08333333],\n",
            "       [1982.16666667],\n",
            "       [1982.25      ],\n",
            "       [1982.33333333],\n",
            "       [1982.41666667],\n",
            "       [1982.5       ],\n",
            "       [1982.58333333],\n",
            "       [1982.66666667],\n",
            "       [1982.75      ],\n",
            "       [1982.83333333],\n",
            "       [1982.91666667],\n",
            "       [1983.        ],\n",
            "       [1983.08333333],\n",
            "       [1983.16666667],\n",
            "       [1983.25      ],\n",
            "       [1983.33333333],\n",
            "       [1983.41666667],\n",
            "       [1983.5       ],\n",
            "       [1983.58333333],\n",
            "       [1983.66666667],\n",
            "       [1983.75      ],\n",
            "       [1983.83333333],\n",
            "       [1983.91666667],\n",
            "       [1984.        ],\n",
            "       [1984.08333333],\n",
            "       [1984.16666667],\n",
            "       [1984.25      ],\n",
            "       [1984.33333333],\n",
            "       [1984.41666667],\n",
            "       [1984.5       ],\n",
            "       [1984.58333333],\n",
            "       [1984.66666667],\n",
            "       [1984.75      ],\n",
            "       [1984.83333333],\n",
            "       [1984.91666667],\n",
            "       [1985.        ],\n",
            "       [1985.08333333],\n",
            "       [1985.16666667],\n",
            "       [1985.25      ],\n",
            "       [1985.33333333],\n",
            "       [1985.41666667],\n",
            "       [1985.5       ],\n",
            "       [1985.58333333],\n",
            "       [1985.66666667],\n",
            "       [1985.75      ],\n",
            "       [1985.83333333],\n",
            "       [1985.91666667],\n",
            "       [1986.        ],\n",
            "       [1986.08333333],\n",
            "       [1986.16666667],\n",
            "       [1986.25      ],\n",
            "       [1986.33333333],\n",
            "       [1986.41666667],\n",
            "       [1986.5       ],\n",
            "       [1986.58333333],\n",
            "       [1986.66666667],\n",
            "       [1986.75      ],\n",
            "       [1986.83333333],\n",
            "       [1986.91666667],\n",
            "       [1987.        ],\n",
            "       [1987.08333333],\n",
            "       [1987.16666667],\n",
            "       [1987.25      ],\n",
            "       [1987.33333333],\n",
            "       [1987.41666667],\n",
            "       [1987.5       ],\n",
            "       [1987.58333333],\n",
            "       [1987.66666667],\n",
            "       [1987.75      ],\n",
            "       [1987.83333333],\n",
            "       [1987.91666667],\n",
            "       [1988.        ],\n",
            "       [1988.08333333],\n",
            "       [1988.16666667],\n",
            "       [1988.25      ],\n",
            "       [1988.33333333],\n",
            "       [1988.41666667],\n",
            "       [1988.5       ],\n",
            "       [1988.58333333],\n",
            "       [1988.66666667],\n",
            "       [1988.75      ],\n",
            "       [1988.83333333],\n",
            "       [1988.91666667],\n",
            "       [1989.        ],\n",
            "       [1989.08333333],\n",
            "       [1989.16666667],\n",
            "       [1989.25      ],\n",
            "       [1989.33333333],\n",
            "       [1989.41666667],\n",
            "       [1989.5       ],\n",
            "       [1989.58333333],\n",
            "       [1989.66666667],\n",
            "       [1989.75      ],\n",
            "       [1989.83333333],\n",
            "       [1989.91666667],\n",
            "       [1990.        ],\n",
            "       [1990.08333333],\n",
            "       [1990.16666667],\n",
            "       [1990.25      ],\n",
            "       [1990.33333333],\n",
            "       [1990.41666667],\n",
            "       [1990.5       ],\n",
            "       [1990.58333333],\n",
            "       [1990.66666667],\n",
            "       [1990.75      ],\n",
            "       [1990.83333333],\n",
            "       [1990.91666667],\n",
            "       [1991.        ],\n",
            "       [1991.08333333],\n",
            "       [1991.16666667],\n",
            "       [1991.25      ],\n",
            "       [1991.33333333],\n",
            "       [1991.41666667],\n",
            "       [1991.5       ],\n",
            "       [1991.58333333],\n",
            "       [1991.66666667],\n",
            "       [1991.75      ],\n",
            "       [1991.83333333],\n",
            "       [1991.91666667],\n",
            "       [1992.        ],\n",
            "       [1992.08333333],\n",
            "       [1992.16666667],\n",
            "       [1992.25      ],\n",
            "       [1992.33333333],\n",
            "       [1992.41666667],\n",
            "       [1992.5       ],\n",
            "       [1992.58333333],\n",
            "       [1992.66666667],\n",
            "       [1992.75      ],\n",
            "       [1992.83333333],\n",
            "       [1992.91666667],\n",
            "       [1993.        ],\n",
            "       [1993.08333333],\n",
            "       [1993.16666667],\n",
            "       [1993.25      ],\n",
            "       [1993.33333333],\n",
            "       [1993.41666667],\n",
            "       [1993.5       ],\n",
            "       [1993.58333333],\n",
            "       [1993.66666667],\n",
            "       [1993.75      ],\n",
            "       [1993.83333333],\n",
            "       [1993.91666667],\n",
            "       [1994.        ],\n",
            "       [1994.08333333],\n",
            "       [1994.16666667],\n",
            "       [1994.25      ],\n",
            "       [1994.33333333],\n",
            "       [1994.41666667],\n",
            "       [1994.5       ],\n",
            "       [1994.58333333],\n",
            "       [1994.66666667],\n",
            "       [1994.75      ],\n",
            "       [1994.83333333],\n",
            "       [1994.91666667],\n",
            "       [1995.        ],\n",
            "       [1995.08333333],\n",
            "       [1995.16666667],\n",
            "       [1995.25      ],\n",
            "       [1995.33333333],\n",
            "       [1995.41666667],\n",
            "       [1995.5       ],\n",
            "       [1995.58333333],\n",
            "       [1995.66666667],\n",
            "       [1995.75      ],\n",
            "       [1995.83333333],\n",
            "       [1995.91666667],\n",
            "       [1996.        ],\n",
            "       [1996.08333333],\n",
            "       [1996.16666667],\n",
            "       [1996.25      ],\n",
            "       [1996.33333333],\n",
            "       [1996.41666667],\n",
            "       [1996.5       ],\n",
            "       [1996.58333333],\n",
            "       [1996.66666667],\n",
            "       [1996.75      ],\n",
            "       [1996.83333333],\n",
            "       [1996.91666667],\n",
            "       [1997.        ],\n",
            "       [1997.08333333],\n",
            "       [1997.16666667],\n",
            "       [1997.25      ],\n",
            "       [1997.33333333],\n",
            "       [1997.41666667],\n",
            "       [1997.5       ],\n",
            "       [1997.58333333],\n",
            "       [1997.66666667],\n",
            "       [1997.75      ],\n",
            "       [1997.83333333],\n",
            "       [1997.91666667],\n",
            "       [1998.        ],\n",
            "       [1998.08333333],\n",
            "       [1998.16666667],\n",
            "       [1998.25      ],\n",
            "       [1998.33333333],\n",
            "       [1998.41666667],\n",
            "       [1998.5       ],\n",
            "       [1998.58333333],\n",
            "       [1998.66666667],\n",
            "       [1998.75      ],\n",
            "       [1998.83333333],\n",
            "       [1998.91666667],\n",
            "       [1999.        ],\n",
            "       [1999.08333333],\n",
            "       [1999.16666667],\n",
            "       [1999.25      ],\n",
            "       [1999.33333333],\n",
            "       [1999.41666667],\n",
            "       [1999.5       ],\n",
            "       [1999.58333333],\n",
            "       [1999.66666667],\n",
            "       [1999.75      ],\n",
            "       [1999.83333333],\n",
            "       [1999.91666667],\n",
            "       [2000.        ],\n",
            "       [2000.08333333],\n",
            "       [2000.16666667],\n",
            "       [2000.25      ],\n",
            "       [2000.33333333],\n",
            "       [2000.41666667],\n",
            "       [2000.5       ],\n",
            "       [2000.58333333],\n",
            "       [2000.66666667],\n",
            "       [2000.75      ],\n",
            "       [2000.83333333],\n",
            "       [2000.91666667],\n",
            "       [2001.        ],\n",
            "       [2001.08333333],\n",
            "       [2001.16666667],\n",
            "       [2001.25      ],\n",
            "       [2001.33333333],\n",
            "       [2001.41666667],\n",
            "       [2001.5       ],\n",
            "       [2001.58333333],\n",
            "       [2001.66666667],\n",
            "       [2001.75      ],\n",
            "       [2001.83333333],\n",
            "       [2001.91666667]]), array([316.1       , 317.2       , 317.43333333, 315.625     ,\n",
            "       314.95      , 313.5       , 313.425     , 314.7       ,\n",
            "       315.5       , 316.7       , 316.73333333, 317.675     ,\n",
            "       318.325     , 318.025     , 316.525     , 314.9       ,\n",
            "       313.825     , 313.4       , 314.875     , 315.525     ,\n",
            "       316.38      , 316.975     , 317.575     , 319.12      ,\n",
            "       319.925     , 319.45      , 318.06      , 315.775     ,\n",
            "       314.175     , 313.84      , 315.025     , 316.2       ,\n",
            "       316.925     , 317.65      , 318.525     , 319.42      ,\n",
            "       320.475     , 319.75      , 318.32      , 316.775     ,\n",
            "       315.04      , 315.35      , 316.05      , 316.98      ,\n",
            "       317.925     , 318.625     , 319.68      , 320.55      ,\n",
            "       320.9       , 320.5       , 319.425     , 317.73333333,\n",
            "       316.06666667, 315.475     , 316.55      , 317.525     ,\n",
            "       318.725     , 318.96666667, 319.86      , 321.275     ,\n",
            "       322.1       , 321.46      , 319.6       , 317.6       ,\n",
            "       316.15      , 316.05      , 317.        , 318.35      ,\n",
            "       319.4       , 322.        , 321.75      , 320.3       ,\n",
            "       318.5       , 316.6       , 316.96      , 317.725     ,\n",
            "       318.675     , 319.4       , 320.45      , 320.925     ,\n",
            "       322.        , 322.06      , 321.775     , 321.04      ,\n",
            "       318.725     , 317.825     , 317.34      , 318.875     ,\n",
            "       319.325     , 320.54      , 321.575     , 322.375     ,\n",
            "       323.66      , 324.025     , 323.7       , 322.85      ,\n",
            "       320.2       , 318.7       , 318.18      , 319.9       ,\n",
            "       321.06      , 322.4       , 322.425     , 323.        ,\n",
            "       324.28      , 324.95      , 324.075     , 322.48      ,\n",
            "       320.85      , 319.3       , 319.45      , 320.675     ,\n",
            "       321.92      , 322.55      , 323.05      , 323.92      ,\n",
            "       324.975     , 325.475     , 325.26      , 324.025     ,\n",
            "       321.94      , 320.25      , 320.275     , 321.32      ,\n",
            "       322.925     , 323.925     , 324.275     , 325.6       ,\n",
            "       326.575     , 327.28      , 326.55      , 325.8       ,\n",
            "       323.54      , 322.4       , 321.8       , 322.82      ,\n",
            "       324.125     , 325.08      , 326.025     , 327.        ,\n",
            "       328.075     , 327.92      , 327.55      , 326.3       ,\n",
            "       324.66      , 323.15      , 323.14      , 324.05      ,\n",
            "       325.1       , 326.14      , 326.65      , 327.2       ,\n",
            "       327.675     , 328.82      , 328.475     , 327.22      ,\n",
            "       325.25      , 323.4       , 323.54      , 324.825     ,\n",
            "       325.925     , 326.72      , 327.625     , 327.725     ,\n",
            "       329.64      , 330.        , 329.075     , 328.04      ,\n",
            "       326.25      , 324.86      , 325.3       , 326.425     ,\n",
            "       327.54      , 328.55      , 329.475     , 330.38      ,\n",
            "       331.575     , 332.4       , 331.94      , 330.65      ,\n",
            "       329.325     , 327.5       , 327.225     , 328.05      ,\n",
            "       328.64      , 329.325     , 330.625     , 331.5       ,\n",
            "       332.625     , 332.975     , 332.16      , 331.075     ,\n",
            "       329.22      , 327.375     , 327.375     , 328.4       ,\n",
            "       329.675     , 330.25      , 331.3       , 332.        ,\n",
            "       333.275     , 333.86      , 333.4       , 331.8       ,\n",
            "       329.98      , 328.525     , 328.325     , 329.44      ,\n",
            "       330.775     , 331.74      , 332.55      , 333.45      ,\n",
            "       334.45      , 334.76      , 334.4       , 332.86      ,\n",
            "       330.725     , 329.35      , 329.1       , 330.35      ,\n",
            "       331.625     , 332.88      , 333.425     , 334.7       ,\n",
            "       336.04      , 336.675     , 336.2       , 334.8       ,\n",
            "       332.875     , 331.575     , 331.2       , 332.35      ,\n",
            "       333.86      , 335.025     , 335.35      , 336.6       ,\n",
            "       337.64      , 337.95      , 337.925     , 336.5       ,\n",
            "       334.65      , 332.74      , 332.65      , 333.825     ,\n",
            "       334.96      , 336.225     , 336.7       , 338.        ,\n",
            "       338.875     , 339.375     , 339.24      , 337.525     ,\n",
            "       336.025     , 333.98      , 333.95      , 335.15      ,\n",
            "       336.66      , 337.925     , 338.225     , 340.06      ,\n",
            "       340.75      , 341.34      , 340.95      , 339.375     ,\n",
            "       337.6       , 335.875     , 336.025     , 337.06      ,\n",
            "       338.2       , 339.22      , 340.45      , 341.4       ,\n",
            "       342.45      , 342.82      , 342.125     , 340.425     ,\n",
            "       338.4       , 336.7       , 336.94      , 338.425     ,\n",
            "       339.6       , 340.7       , 341.55      , 342.675     ,\n",
            "       343.475     , 343.96      , 343.3       , 341.92      ,\n",
            "       339.625     , 338.025     , 337.9       , 339.275     ,\n",
            "       340.425     , 341.34      , 342.5       , 343.15      ,\n",
            "       344.9       , 345.65      , 345.275     , 343.82      ,\n",
            "       342.15      , 339.875     , 340.02      , 341.15      ,\n",
            "       342.98      , 343.675     , 344.425     , 345.175     ,\n",
            "       347.4       , 347.35      , 346.66      , 345.2       ,\n",
            "       343.3       , 341.12      , 341.475     , 342.85      ,\n",
            "       344.14      , 344.925     , 345.875     , 347.44      ,\n",
            "       348.325     , 348.825     , 348.18      , 346.45      ,\n",
            "       344.3       , 343.        , 342.8       , 344.22      ,\n",
            "       345.575     , 346.25      , 346.825     , 347.74      ,\n",
            "       349.525     , 350.08      , 349.375     , 347.825     ,\n",
            "       345.82      , 344.8       , 344.1       , 345.62      ,\n",
            "       346.875     , 348.        , 348.5       , 349.475     ,\n",
            "       350.85      , 351.74      , 351.15      , 349.45      ,\n",
            "       348.08      , 346.4       , 346.44      , 347.925     ,\n",
            "       348.925     , 350.4       , 351.775     , 352.125     ,\n",
            "       353.58      , 354.175     , 353.75      , 352.22      ,\n",
            "       350.3       , 348.75      , 348.96      , 350.        ,\n",
            "       351.36      , 352.775     , 353.        , 353.6       ,\n",
            "       355.36      , 355.6       , 355.125     , 353.86      ,\n",
            "       351.575     , 349.86      , 350.05      , 351.2       ,\n",
            "       352.48      , 353.65      , 354.65      , 355.48      ,\n",
            "       356.175     , 357.075     , 356.08      , 354.675     ,\n",
            "       352.9       , 350.94      , 351.225     , 352.7       ,\n",
            "       354.14      , 354.675     , 355.65      , 357.2       ,\n",
            "       358.6       , 359.25      , 358.18      , 356.05      ,\n",
            "       353.86      , 352.125     , 352.25      , 353.74      ,\n",
            "       355.025     , 355.9       , 356.68      , 357.9       ,\n",
            "       359.075     , 359.54      , 359.125     , 357.        ,\n",
            "       354.86      , 353.025     , 353.42      , 354.2       ,\n",
            "       355.35      , 356.68      , 357.175     , 358.425     ,\n",
            "       359.325     , 360.18      , 359.5       , 357.42      ,\n",
            "       355.325     , 353.775     , 354.06      , 355.35      ,\n",
            "       356.775     , 358.32      , 358.9       , 359.925     ,\n",
            "       361.22      , 361.65      , 360.9       , 359.46      ,\n",
            "       357.375     , 355.925     , 356.02      , 357.575     ,\n",
            "       359.06      , 359.975     , 360.925     , 361.575     ,\n",
            "       363.36      , 363.7       , 363.25      , 361.8       ,\n",
            "       359.375     , 358.        , 357.85      , 359.475     ,\n",
            "       360.7       , 362.025     , 363.175     , 364.06      ,\n",
            "       364.7       , 365.325     , 364.88      , 363.475     ,\n",
            "       361.32      , 359.4       , 359.625     , 360.74      ,\n",
            "       362.375     , 363.125     , 363.875     , 364.56      ,\n",
            "       366.325     , 366.68      , 365.475     , 364.375     ,\n",
            "       362.46      , 360.15      , 360.75      , 362.38      ,\n",
            "       364.25      , 365.34      , 366.2       , 367.375     ,\n",
            "       368.525     , 369.14      , 368.75      , 367.6       ,\n",
            "       365.72      , 363.925     , 364.32      , 365.55      ,\n",
            "       366.925     , 368.12      , 368.85      , 369.6       ,\n",
            "       370.975     , 370.84      , 370.25      , 369.        ,\n",
            "       366.7       , 364.675     , 365.14      , 366.65      ,\n",
            "       367.9       , 369.02      , 369.375     , 370.4       ,\n",
            "       371.54      , 371.65      , 371.625     , 369.94      ,\n",
            "       367.95      , 366.54      , 366.725     , 368.125     ,\n",
            "       369.44      , 370.175     , 371.325     , 372.06      ,\n",
            "       372.775     , 373.8       , 373.06      , 371.3       ,\n",
            "       369.425     , 367.88      , 368.05      , 369.375     ,\n",
            "       371.02      ]))\n",
            "GPML kernel: 66**2 * RBF(length_scale=67) + 2.4**2 * RBF(length_scale=90) * ExpSineSquared(length_scale=1.3, periodicity=1) + 0.66**2 * RationalQuadratic(alpha=0.78, length_scale=1.2) + 0.18**2 * RBF(length_scale=0.134) + WhiteKernel(noise_level=0.0361)\n",
            "Log-marginal-likelihood: -117.023\n",
            "\n",
            "Learned kernel: 44.8**2 * RBF(length_scale=51.6) + 2.64**2 * RBF(length_scale=91.5) * ExpSineSquared(length_scale=1.48, periodicity=1) + 0.536**2 * RationalQuadratic(alpha=2.89, length_scale=0.968) + 0.188**2 * RBF(length_scale=0.122) + WhiteKernel(noise_level=0.0367)\n",
            "Log-marginal-likelihood: -115.050\n"
          ],
          "name": "stdout"
        },
        {
          "output_type": "display_data",
          "data": {
            "image/png": "[encoded data removed]",
            "text/plain": [
              "<Figure size 576x396 with 1 Axes>"
            ]
          },
          "metadata": {
            "tags": []
          }
        }
      ]
    },
    {
      "metadata": {
        "id": "v3FThuAtgjKK",
        "colab_type": "code",
        "colab": {}
      },
      "cell_type": "code",
      "source": [
        ""
      ],
      "execution_count": 0,
      "outputs": []
    },
    {
      "metadata": {
        "id": "XpH7kJfZhCoc",
        "colab_type": "code",
        "colab": {}
      },
      "cell_type": "code",
      "source": [
        "\n",
        "X, y = load_robot_execution_failures()\n",
        "\n",
        "from sklearn.pipeline import Pipeline\n",
        "from sklearn.ensemble import RandomForestClassifier\n",
        "from tsfresh.examples import load_robot_execution_failures\n",
        "from tsfresh.transformers import RelevantFeatureAugmenter\n",
        "import tsfresh as tfsh\n",
        "\n",
        "\n",
        "pipeline = Pipeline([('augmenter', RelevantFeatureAugmenter(column_id='id', column_sort='time')),\n",
        "            ('classifier', RandomForestClassifier())])\n",
        "\n",
        "df_ts, y = load_robot_execution_failures()\n",
        "X = pd.DataFrame(index=y.index)\n",
        "\n",
        "pipeline.set_params(augmenter__timeseries_container=df_ts)\n",
        "pipeline.fit(X, y)"
      ],
      "execution_count": 0,
      "outputs": []
    },
    {
      "metadata": {
        "id": "HfBYkKhkiA7W",
        "colab_type": "code",
        "colab": {
          "base_uri": "https://localhost:8080/",
          "height": 377
        },
        "outputId": "78fea8c0-7e72-4f89-e81d-c209b12ff179"
      },
      "cell_type": "code",
      "source": [
        "from tsfresh.examples.robot_execution_failures import download_robot_execution_failures, \\\n",
        "    load_robot_execution_failures\n",
        "download_robot_execution_failures()\n",
        "df_ts, y = load_robot_execution_failures()\n",
        "X = pd.DataFrame(index=y.index)\n",
        "\n",
        "print (df_ts.shape)\n",
        "print (y.shape)\n",
        "print (X.shape)"
      ],
      "execution_count": 2,
      "outputs": [
        {
          "output_type": "error",
          "ename": "ModuleNotFoundError",
          "evalue": "ignored",
          "traceback": [
            "\u001b[0;31m---------------------------------------------------------------------------\u001b[0m",
            "\u001b[0;31mModuleNotFoundError\u001b[0m                       Traceback (most recent call last)",
            "\u001b[0;32m<ipython-input-2-778e95399710>\u001b[0m in \u001b[0;36m<module>\u001b[0;34m()\u001b[0m\n\u001b[0;32m----> 1\u001b[0;31m \u001b[0;32mfrom\u001b[0m \u001b[0mtsfresh\u001b[0m\u001b[0;34m.\u001b[0m\u001b[0mexamples\u001b[0m\u001b[0;34m.\u001b[0m\u001b[0mrobot_execution_failures\u001b[0m \u001b[0;32mimport\u001b[0m \u001b[0mdownload_robot_execution_failures\u001b[0m\u001b[0;34m,\u001b[0m     \u001b[0mload_robot_execution_failures\u001b[0m\u001b[0;34m\u001b[0m\u001b[0;34m\u001b[0m\u001b[0m\n\u001b[0m\u001b[1;32m      2\u001b[0m \u001b[0mdownload_robot_execution_failures\u001b[0m\u001b[0;34m(\u001b[0m\u001b[0;34m)\u001b[0m\u001b[0;34m\u001b[0m\u001b[0;34m\u001b[0m\u001b[0m\n\u001b[1;32m      3\u001b[0m \u001b[0mdf_ts\u001b[0m\u001b[0;34m,\u001b[0m \u001b[0my\u001b[0m \u001b[0;34m=\u001b[0m \u001b[0mload_robot_execution_failures\u001b[0m\u001b[0;34m(\u001b[0m\u001b[0;34m)\u001b[0m\u001b[0;34m\u001b[0m\u001b[0;34m\u001b[0m\u001b[0m\n\u001b[1;32m      4\u001b[0m \u001b[0mX\u001b[0m \u001b[0;34m=\u001b[0m \u001b[0mpd\u001b[0m\u001b[0;34m.\u001b[0m\u001b[0mDataFrame\u001b[0m\u001b[0;34m(\u001b[0m\u001b[0mindex\u001b[0m\u001b[0;34m=\u001b[0m\u001b[0my\u001b[0m\u001b[0;34m.\u001b[0m\u001b[0mindex\u001b[0m\u001b[0;34m)\u001b[0m\u001b[0;34m\u001b[0m\u001b[0;34m\u001b[0m\u001b[0m\n\u001b[1;32m      5\u001b[0m \u001b[0;34m\u001b[0m\u001b[0m\n",
            "\u001b[0;31mModuleNotFoundError\u001b[0m: No module named 'tsfresh'",
            "",
            "\u001b[0;31m---------------------------------------------------------------------------\u001b[0;32m\nNOTE: If your import is failing due to a missing package, you can\nmanually install dependencies using either !pip or !apt.\n\nTo view examples of installing some common dependencies, click the\n\"Open Examples\" button below.\n\u001b[0;31m---------------------------------------------------------------------------\u001b[0m\n"
          ]
        }
      ]
    },
    {
      "metadata": {
        "id": "qq6UhT4uAwxG",
        "colab_type": "code",
        "colab": {}
      },
      "cell_type": "code",
      "source": [
        ""
      ],
      "execution_count": 0,
      "outputs": []
    }
  ]
}